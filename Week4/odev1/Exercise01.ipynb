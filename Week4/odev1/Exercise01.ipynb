import pandas as pd

sozluk = {
    "Kategori": ["Giyim", "Giyim", "Ayakkabı", "Aksesuar", "Ayakkabı", "Giyim", "Aksesuar", "Aksesuar", "Ayakkabı", "Giyim"],
    "Ürün": ["Kazak", "T-shirt", "Sandalet", "Küpe", "Spor Ayakkabı", "Pantolon", "Kolye", "Yüzük", "Çizme", "Ceket"],
    "Fiyat": [300, 180, 450, 50, 700, 400, 150, 80, 850, 900]
}

df = pd.DataFrame(sozluk)

# 2. indexte bulunan kategori
kategori_2 = df.loc[2, 'Kategori']

# 2. indexte bulunan ürün
urun_2 = df.loc[2, 'Ürün']

# 4. indexten 9. indexe kadar olan veriler
veriler_4_9 = df.loc[4:9]

# 1. indexten 6. indexe kadar olan ürünler
urunler_1_6 = df.loc[1:6, 'Ürün']

# Giyim kategorisinde bulunan ürünler
giyim_urunler = df[df['Kategori'] == 'Giyim']['Ürün']

# Ayakkabı kategorisinde bulunan ürünler
ayakkabi_urunler = df[df['Kategori'] == 'Ayakkabı']['Ürün']

# Aksesuar kategorisinde bulunan ürünler
aksesuar_urunler = df[df['Kategori'] == 'Aksesuar']['Ürün']

# Giyim kategorisinde fiyatı 300'den fazla olan ürünler
giyim_fiyat_300 = df[(df['Kategori'] == 'Giyim') & (df['Fiyat'] > 300)]

# Ayakkabı kategorisinde fiyatı 600'den az olan ürünler
ayakkabi_fiyat_600 = df[(df['Kategori'] == 'Ayakkabı') & (df['Fiyat'] < 600)]

# Aksesuar kategorisinde fiyatı 100'den fazla olan aksesuarlar
aksesuar_fiyat_100 = df[(df['Kategori'] == 'Aksesuar') & (df['Fiyat'] > 100)]

print("2. indexte bulunan kategori:", kategori_2)
print("2. indexte bulunan ürün:", urun_2)
print("4. indexten 9. indexe kadar olan veriler:")
print(veriler_4_9)
print("1. indexten 6. indexe kadar olan ürünler:")
print(urunler_1_6)
print("Giyim kategorisinde bulunan ürünler:")
print(giyim_urunler)
print("Ayakkabı kategorisinde bulunan ürünler:")
print(ayakkabi_urunler)
print("Aksesuar kategorisinde bulunan ürünler:")
print(aksesuar_urunler)
print("Giyim kategorisinde fiyatı 300'den fazla olan ürünler:")
print(giyim_fiyat_300)
print("Ayakkabı kategorisinde fiyatı 600'den az olan ürünler:")
print(ayakkabi_fiyat_600)
print("Aksesuar kategorisinde fiyatı 100'den fazla olan aksesuarlar:")
print(aksesuar_fiyat_100)
