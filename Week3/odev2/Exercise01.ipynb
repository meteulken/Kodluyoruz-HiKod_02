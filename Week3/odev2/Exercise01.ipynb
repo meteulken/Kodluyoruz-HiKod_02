{
 "cells": [
  {
   "cell_type": "code",
   "execution_count": 1,
   "id": "ddcb764b",
   "metadata": {},
   "outputs": [
    {
     "name": "stdout",
     "output_type": "stream",
     "text": [
      "Arrayin boyutu: 5\n",
      "Arrayin eleman sayısı: 5\n"
     ]
    }
   ],
   "source": [
    "array = [1, 2, 3, 4, 5]\n",
    "\n",
    "boyut = len(array)\n",
    "\n",
    "eleman_sayisi = sum(1 for i in array)\n",
    "\n",
    "print(\"Arrayin boyutu:\", boyut)\n",
    "print(\"Arrayin eleman sayısı:\", eleman_sayisi)"
   ]
  },
  {
   "cell_type": "code",
   "execution_count": 23,
   "id": "d18274ff",
   "metadata": {},
   "outputs": [
    {
     "name": "stdout",
     "output_type": "stream",
     "text": [
      "Arrayin boyutu: 2\n",
      "Arrayin eleman sayısı: 2\n",
      "Arrayin satır sayısı: 1\n",
      "Arrayin sütun sayısı: 2\n",
      "Arrayin boyutu: 3\n",
      "Arrayin eleman sayısı: 6\n",
      "Arrayin satır sayısı: 2\n",
      "Arrayin sütun sayısı: 2\n",
      "Indexleme [[10 11 12]\n",
      " [13 14 15]\n",
      " [16 17 18]]\n",
      "Dilimleme [[4 5 6]]\n",
      "1-2 satır ve 2-3 sütun [[2 3]\n",
      " [5 6]]\n"
     ]
    }
   ],
   "source": [
    "import numpy as np\n",
    "\n",
    "array = np.array([[1, 2, 3], [4, 5, 6]])\n",
    "\n",
    "array3d = np.array([[[1, 2, 3], [4, 5, 6], [7, 8, 9]],\n",
    "                    [[10, 11, 12], [13, 14, 15], [16, 17, 18]]])\n",
    "\n",
    "boyut = array.ndim\n",
    "\n",
    "boyut3d = array3d.ndim\n",
    "\n",
    "eleman_sayisi = len(array)\n",
    "\n",
    "eleman_sayisi3d = sum(len(satir) for satir in array3d)\n",
    "\n",
    "satir_sayisi = 1\n",
    "\n",
    "satir_sayisi3d = len(array3d)\n",
    "\n",
    "sutun_sayisi = len(array)\n",
    "\n",
    "sutun_sayisi3d = len(array3d)\n",
    "\n",
    "print(\"Arrayin boyutu:\", boyut)\n",
    "print(\"Arrayin eleman sayısı:\", eleman_sayisi)\n",
    "print(\"Arrayin satır sayısı:\", satir_sayisi)\n",
    "print(\"Arrayin sütun sayısı:\", sutun_sayisi)\n",
    "print(\"Arrayin boyutu:\", boyut3d)\n",
    "print(\"Arrayin eleman sayısı:\", eleman_sayisi3d)\n",
    "print(\"Arrayin satır sayısı:\", satir_sayisi3d)\n",
    "print(\"Arrayin sütun sayısı:\", sutun_sayisi3d)\n",
    "print(\"Indexleme\",array3d[-1])\n",
    "print(\"Dilimleme\",array[1:4])\n",
    "print(\"1-2 satır ve 2-3 sütun\",array[0:2, 1:3])"
   ]
  },
  {
   "cell_type": "code",
   "execution_count": 31,
   "id": "edb20175",
   "metadata": {},
   "outputs": [
    {
     "name": "stdout",
     "output_type": "stream",
     "text": [
      "Satır bazında birleştirilmiş array:\n",
      "[[1 1 1]\n",
      " [1 1 1]\n",
      " [1 1 1]]\n",
      "Sütun bazında birleştirilmiş array:\n",
      "[[0 0 0 1 1 1]\n",
      " [0 0 0 1 1 1]\n",
      " [0 0 0 1 1 1]]\n"
     ]
    }
   ],
   "source": [
    "array_sifir = [[0] * 3 for i in range(3)]\n",
    "\n",
    "array_bir = [[1] * 3 for i in range(3)]\n",
    "\n",
    "array_birlesik = np.array(array_sifir) + np.array(array_bir)\n",
    "array_birlesik2 = np.column_stack((array_sifir, array_bir))\n",
    "\n",
    "print(\"Satır bazında birleştirilmiş array:\")\n",
    "print(array_birlesik)\n",
    "print(\"Sütun bazında birleştirilmiş array:\")\n",
    "print(array_birlesik2)"
   ]
  },
  {
   "cell_type": "code",
   "execution_count": null,
   "id": "cfcf6bb8",
   "metadata": {},
   "outputs": [],
   "source": []
  }
 ],
 "metadata": {
  "kernelspec": {
   "display_name": "Python 3 (ipykernel)",
   "language": "python",
   "name": "python3"
  },
  "language_info": {
   "codemirror_mode": {
    "name": "ipython",
    "version": 3
   },
   "file_extension": ".py",
   "mimetype": "text/x-python",
   "name": "python",
   "nbconvert_exporter": "python",
   "pygments_lexer": "ipython3",
   "version": "3.11.4"
  }
 },
 "nbformat": 4,
 "nbformat_minor": 5
}
