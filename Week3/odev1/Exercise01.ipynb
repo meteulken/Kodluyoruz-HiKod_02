{
 "cells": [
  {
   "cell_type": "code",
   "execution_count": null,
   "id": "d93c6bd8",
   "metadata": {},
   "outputs": [],
   "source": [
    "ogrenci_bilgileri2 = {\n",
    "    'Ali': {'Matematik': 85, 'Fizik': 75, 'Kimya': 90},\n",
    "    'Ayşe': {'Matematik': 92, 'Fizik': 88, 'Kimya': 78},\n",
    "    'Mehmet': {'Matematik': 70, 'Fizik': 82, 'Kimya': 95}\n",
    "}\n",
    "\n",
    "ogrenci_adi = input(\"Öğrencinin adını girin: \")\n",
    "ders_adi = input(\"Hangi dersin notunu görmek istersiniz (Matematik, Fizik, Kimya)? \")\n",
    "\n",
    "if ogrenci_adi in ogrenci_bilgileri and ders_adi in ogrenci_bilgileri[ogrenci_adi]:\n",
    "    notu = ogrenci_bilgileri[ogrenci_adi][ders_adi]\n",
    "    print(f\"{ogrenci_adi} adlı öğrencinin {ders_adi} notu: {notu}\")\n",
    "else:\n",
    "    print(\"Öğrenci veya ders bulunamadı.\")\n"
   ]
  },
  {
   "cell_type": "code",
   "execution_count": null,
   "id": "7ceb4d2c",
   "metadata": {},
   "outputs": [],
   "source": [
    "ogrenci_bilgileri = {\n",
    "    'Ali': {'Matematik': 85, 'Fizik': 75, 'Kimya': 90},\n",
    "    'Ayşe': {'Matematik': 92, 'Fizik': 88, 'Kimya': 78},\n",
    "    'Mehmet': {'Matematik': 70, 'Fizik': 82, 'Kimya': 95}\n",
    "}\n",
    "\n",
    "while True:\n",
    "    print(\"Hangi bilgilere ulaşmak istiyorsunuz?\")\n",
    "    print(\"1. Tüm bilgiler\")\n",
    "    print(\"2. Sadece notlar\")\n",
    "    print(\"3. Sadece isim\")\n",
    "    print(\"4. Öğrenci Ekle\")\n",
    "    print(\"5. Çıkış\")\n",
    "\n",
    "    secim = input(\"Seçiminiz: \")\n",
    "\n",
    "    if secim == \"1\":\n",
    "        for ogrenci, bilgiler in ogrenci_bilgileri.items():\n",
    "            print(f\"{ogrenci}: {bilgiler}\")\n",
    "    elif secim == \"2\":\n",
    "        for ogrenci, bilgiler in ogrenci_bilgileri.items():\n",
    "            print(f\"{ogrenci}: {bilgiler.keys()}\")\n",
    "    elif secim == \"3\":\n",
    "        for ogrenci in ogrenci_bilgileri.keys():\n",
    "            print(ogrenci)\n",
    "    elif secim == \"4\":\n",
    "        ogrenci_adi = input(\"Yeni öğrencinin adını girin: \")\n",
    "        ogrenci_bilgileri[ogrenci_adi] = {}\n",
    "        dersler = ['Matematik', 'Fizik', 'Kimya']\n",
    "        for ders in dersler:\n",
    "            notu = float(input(f\"{ders} notunu girin: \"))\n",
    "            ogrenci_bilgileri[ogrenci_adi][ders] = notu\n",
    "        print(f\"{ogrenci_adi} öğrencisi eklendi.\")\n",
    "    elif secim == \"5\":\n",
    "        break\n",
    "    else:\n",
    "        print(\"Geçersiz seçim. Lütfen tekrar deneyin.\")\n"
   ]
  }
 ],
 "metadata": {
  "kernelspec": {
   "display_name": "Python 3 (ipykernel)",
   "language": "python",
   "name": "python3"
  },
  "language_info": {
   "codemirror_mode": {
    "name": "ipython",
    "version": 3
   },
   "file_extension": ".py",
   "mimetype": "text/x-python",
   "name": "python",
   "nbconvert_exporter": "python",
   "pygments_lexer": "ipython3",
   "version": "3.11.4"
  }
 },
 "nbformat": 4,
 "nbformat_minor": 5
}
