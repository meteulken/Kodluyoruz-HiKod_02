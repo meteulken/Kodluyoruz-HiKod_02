{
 "cells": [
  {
   "cell_type": "code",
   "execution_count": 2,
   "id": "9b58bf04",
   "metadata": {},
   "outputs": [
    {
     "name": "stdout",
     "output_type": "stream",
     "text": [
      "Faktoriyelini hesaplamak istediğiniz sayıyı girin: 5\n",
      "5 sayısının faktöriyeli: 120\n"
     ]
    }
   ],
   "source": [
    "def faktoriyel(sayi):\n",
    "    deger = 1\n",
    "    for i in range(1, sayi + 1):\n",
    "        deger *= i\n",
    "    return deger\n",
    "\n",
    "sayi = int(input(\"Faktoriyelini hesaplamak istediğiniz sayıyı girin: \"))\n",
    "sonuc = faktoriyel(sayi)\n",
    "print(\"{} sayısının faktöriyeli: {}\".format(sayi, sonuc))\n"
   ]
  },
  {
   "cell_type": "code",
   "execution_count": null,
   "id": "a9b419dc",
   "metadata": {},
   "outputs": [],
   "source": []
  }
 ],
 "metadata": {
  "kernelspec": {
   "display_name": "Python 3 (ipykernel)",
   "language": "python",
   "name": "python3"
  },
  "language_info": {
   "codemirror_mode": {
    "name": "ipython",
    "version": 3
   },
   "file_extension": ".py",
   "mimetype": "text/x-python",
   "name": "python",
   "nbconvert_exporter": "python",
   "pygments_lexer": "ipython3",
   "version": "3.11.4"
  }
 },
 "nbformat": 4,
 "nbformat_minor": 5
}
