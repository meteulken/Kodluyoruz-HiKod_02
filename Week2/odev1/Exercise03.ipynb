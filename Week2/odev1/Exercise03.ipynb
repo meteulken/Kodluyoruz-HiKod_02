{
 "cells": [
  {
   "cell_type": "code",
   "execution_count": 7,
   "id": "7f926d9a",
   "metadata": {},
   "outputs": [
    {
     "name": "stdout",
     "output_type": "stream",
     "text": [
      "Dogum yilini giriniz :2001\n",
      "Merhaba yaşınız: 22\n"
     ]
    }
   ],
   "source": [
    "def dogum(yil):\n",
    "    sonuc = 2023 - yil\n",
    "    return sonuc\n",
    "\n",
    "sayi = int(input(\"Dogum yilini giriniz :\"))\n",
    "sonuc = dogum(sayi)\n",
    "\n",
    "print(\"Merhaba yaşınız:\",sonuc)"
   ]
  },
  {
   "cell_type": "code",
   "execution_count": null,
   "id": "9d4d1881",
   "metadata": {},
   "outputs": [],
   "source": []
  }
 ],
 "metadata": {
  "kernelspec": {
   "display_name": "Python 3 (ipykernel)",
   "language": "python",
   "name": "python3"
  },
  "language_info": {
   "codemirror_mode": {
    "name": "ipython",
    "version": 3
   },
   "file_extension": ".py",
   "mimetype": "text/x-python",
   "name": "python",
   "nbconvert_exporter": "python",
   "pygments_lexer": "ipython3",
   "version": "3.11.4"
  }
 },
 "nbformat": 4,
 "nbformat_minor": 5
}
