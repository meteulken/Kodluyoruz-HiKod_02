{
 "cells": [
  {
   "cell_type": "code",
   "execution_count": 11,
   "id": "eb0ea9d9",
   "metadata": {},
   "outputs": [
    {
     "name": "stdout",
     "output_type": "stream",
     "text": [
      "Dogum yilini giriniz :2001\n",
      "İsminizi giriniz :mete\n",
      "mete emekliliğine 43 yıl kaldı.\n",
      "Merhaba yaşınız: 22\n"
     ]
    }
   ],
   "source": [
    "def isim():\n",
    "    name = input(\"İsminizi giriniz :\")\n",
    "    return name\n",
    "def dogum(yil):\n",
    "    sonuc = 2023 - yil\n",
    "    return sonuc\n",
    "\n",
    "def emekli(yil,isim):\n",
    "    if(yil > 65):\n",
    "        print(\"Emekli olabilirsiniz.\")\n",
    "    else:\n",
    "        emk = 65 - sonuc\n",
    "        print(\"{} emekliliğine {} yıl kaldı.\".format(isim,emk))\n",
    "\n",
    "sayi = int(input(\"Dogum yilini giriniz :\"))\n",
    "sonuc = dogum(sayi)\n",
    "name = isim()\n",
    "emek = emekli(sonuc,name)"
   ]
  },
  {
   "cell_type": "code",
   "execution_count": null,
   "id": "efe8da39",
   "metadata": {},
   "outputs": [],
   "source": []
  },
  {
   "cell_type": "code",
   "execution_count": null,
   "id": "70742d69",
   "metadata": {},
   "outputs": [],
   "source": []
  }
 ],
 "metadata": {
  "kernelspec": {
   "display_name": "Python 3 (ipykernel)",
   "language": "python",
   "name": "python3"
  },
  "language_info": {
   "codemirror_mode": {
    "name": "ipython",
    "version": 3
   },
   "file_extension": ".py",
   "mimetype": "text/x-python",
   "name": "python",
   "nbconvert_exporter": "python",
   "pygments_lexer": "ipython3",
   "version": "3.11.4"
  }
 },
 "nbformat": 4,
 "nbformat_minor": 5
}
