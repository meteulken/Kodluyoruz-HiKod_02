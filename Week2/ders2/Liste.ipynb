{
 "cells": [
  {
   "cell_type": "markdown",
   "id": "2ed25362",
   "metadata": {},
   "source": [
    "# List"
   ]
  },
  {
   "cell_type": "code",
   "execution_count": 1,
   "id": "91f212ec",
   "metadata": {},
   "outputs": [
    {
     "data": {
      "text/plain": [
       "[5, 7, 3, 6, 18, 9]"
      ]
     },
     "execution_count": 1,
     "metadata": {},
     "output_type": "execute_result"
    }
   ],
   "source": [
    "my_list = [5,7,3,6,18,9]\n",
    "my_list"
   ]
  },
  {
   "cell_type": "code",
   "execution_count": 2,
   "id": "8356c1d5",
   "metadata": {},
   "outputs": [
    {
     "data": {
      "text/plain": [
       "list"
      ]
     },
     "execution_count": 2,
     "metadata": {},
     "output_type": "execute_result"
    }
   ],
   "source": [
    "type(my_list)"
   ]
  },
  {
   "cell_type": "code",
   "execution_count": 3,
   "id": "96bd9d6d",
   "metadata": {},
   "outputs": [
    {
     "data": {
      "text/plain": [
       "5"
      ]
     },
     "execution_count": 3,
     "metadata": {},
     "output_type": "execute_result"
    }
   ],
   "source": [
    "my_list[0]"
   ]
  },
  {
   "cell_type": "code",
   "execution_count": 4,
   "id": "8d4d88dc",
   "metadata": {},
   "outputs": [
    {
     "data": {
      "text/plain": [
       "7"
      ]
     },
     "execution_count": 4,
     "metadata": {},
     "output_type": "execute_result"
    }
   ],
   "source": [
    "my_list[1]"
   ]
  },
  {
   "cell_type": "code",
   "execution_count": 5,
   "id": "dd0f6dad",
   "metadata": {},
   "outputs": [
    {
     "data": {
      "text/plain": [
       "3"
      ]
     },
     "execution_count": 5,
     "metadata": {},
     "output_type": "execute_result"
    }
   ],
   "source": [
    "### ikinci index deki elemanı bulalım\n",
    "my_list[2]"
   ]
  },
  {
   "cell_type": "code",
   "execution_count": 6,
   "id": "6064300c",
   "metadata": {},
   "outputs": [
    {
     "data": {
      "text/plain": [
       "9"
      ]
     },
     "execution_count": 6,
     "metadata": {},
     "output_type": "execute_result"
    }
   ],
   "source": [
    "###listedeki sonuncu elemanı bulalım\n",
    "my_list[-1]"
   ]
  },
  {
   "cell_type": "code",
   "execution_count": 7,
   "id": "51e53879",
   "metadata": {},
   "outputs": [
    {
     "data": {
      "text/plain": [
       "[5, 7, 3, 6]"
      ]
     },
     "execution_count": 7,
     "metadata": {},
     "output_type": "execute_result"
    }
   ],
   "source": [
    "my_list[:4]"
   ]
  },
  {
   "cell_type": "code",
   "execution_count": 8,
   "id": "051b729b",
   "metadata": {},
   "outputs": [
    {
     "data": {
      "text/plain": [
       "[3, 6, 18]"
      ]
     },
     "execution_count": 8,
     "metadata": {},
     "output_type": "execute_result"
    }
   ],
   "source": [
    "###2. index den 5. indexe kadar olan elemanları bulalım\n",
    "my_list[2:5]"
   ]
  },
  {
   "cell_type": "code",
   "execution_count": 9,
   "id": "00d8eaf9",
   "metadata": {},
   "outputs": [
    {
     "data": {
      "text/plain": [
       "[5, 7, 3, 6, 18, 9]"
      ]
     },
     "execution_count": 9,
     "metadata": {},
     "output_type": "execute_result"
    }
   ],
   "source": [
    "my_list"
   ]
  },
  {
   "cell_type": "code",
   "execution_count": 10,
   "id": "e790a551",
   "metadata": {},
   "outputs": [
    {
     "data": {
      "text/plain": [
       "[7, 3, 6]"
      ]
     },
     "execution_count": 10,
     "metadata": {},
     "output_type": "execute_result"
    }
   ],
   "source": [
    "my_list[1:-2]"
   ]
  },
  {
   "cell_type": "code",
   "execution_count": 11,
   "id": "012c57dd",
   "metadata": {},
   "outputs": [
    {
     "data": {
      "text/plain": [
       "[4, 9, 'Python', 5.7, 'Hi-Kod']"
      ]
     },
     "execution_count": 11,
     "metadata": {},
     "output_type": "execute_result"
    }
   ],
   "source": [
    "# listeler içinde farklı veri tipleri bulunabilir.\n",
    "new_list = [4,9,\"Python\",5.7,\"Hi-Kod\"]\n",
    "new_list"
   ]
  },
  {
   "cell_type": "code",
   "execution_count": 12,
   "id": "015bf38f",
   "metadata": {},
   "outputs": [
    {
     "data": {
      "text/plain": [
       "[5, 7, 3, 6, 18, 9]"
      ]
     },
     "execution_count": 12,
     "metadata": {},
     "output_type": "execute_result"
    }
   ],
   "source": [
    "my_list"
   ]
  },
  {
   "cell_type": "code",
   "execution_count": 13,
   "id": "2f71cdf4",
   "metadata": {},
   "outputs": [
    {
     "data": {
      "text/plain": [
       "[5, 7, 'Merhaba', 6, 18, 9]"
      ]
     },
     "execution_count": 13,
     "metadata": {},
     "output_type": "execute_result"
    }
   ],
   "source": [
    "# 2. indexde bulunan elemanı Merhaba olarak değiştirelim.\n",
    "my_list[2] = \"Merhaba\"\n",
    "my_list"
   ]
  },
  {
   "cell_type": "code",
   "execution_count": 14,
   "id": "43f074fd",
   "metadata": {},
   "outputs": [
    {
     "data": {
      "text/plain": [
       "[6, 'Elma', 5, [3, 'Armut', 1.2], [3.2, 8, 5]]"
      ]
     },
     "execution_count": 14,
     "metadata": {},
     "output_type": "execute_result"
    }
   ],
   "source": [
    "#Liste içinde liste bulunabilir.\n",
    "my_list2 = [6,\"Elma\",5,[3,\"Armut\",1.2],[3.2,8,5]]\n",
    "my_list2"
   ]
  },
  {
   "cell_type": "code",
   "execution_count": 15,
   "id": "d5717414",
   "metadata": {},
   "outputs": [
    {
     "data": {
      "text/plain": [
       "['Hi-Kod', 'Veri', 'Bilimi', 'Atölyesi']"
      ]
     },
     "execution_count": 15,
     "metadata": {},
     "output_type": "execute_result"
    }
   ],
   "source": [
    "atolye = \"Hi-Kod Veri Bilimi Atölyesi\"\n",
    "atolye_list = atolye.split()\n",
    "atolye_list"
   ]
  },
  {
   "cell_type": "code",
   "execution_count": 16,
   "id": "e9d20c3d",
   "metadata": {},
   "outputs": [
    {
     "data": {
      "text/plain": [
       "list"
      ]
     },
     "execution_count": 16,
     "metadata": {},
     "output_type": "execute_result"
    }
   ],
   "source": [
    "type(atolye_list)"
   ]
  },
  {
   "cell_type": "code",
   "execution_count": 17,
   "id": "3fceec5f",
   "metadata": {},
   "outputs": [
    {
     "data": {
      "text/plain": [
       "'Hi-Kod'"
      ]
     },
     "execution_count": 17,
     "metadata": {},
     "output_type": "execute_result"
    }
   ],
   "source": [
    "atolye_list[0]"
   ]
  },
  {
   "cell_type": "code",
   "execution_count": 18,
   "id": "780884c6",
   "metadata": {},
   "outputs": [
    {
     "data": {
      "text/plain": [
       "['elma', 'çilek', 'muz']"
      ]
     },
     "execution_count": 18,
     "metadata": {},
     "output_type": "execute_result"
    }
   ],
   "source": [
    "### split fonksiyonu kullanarak meyve isimlerini ayıralım\n",
    "meyveler = \"elma,çilek,muz\"\n",
    "meyveler_list=meyveler.split(\",\")\n",
    "meyveler_list"
   ]
  },
  {
   "cell_type": "code",
   "execution_count": 19,
   "id": "643f9fe7",
   "metadata": {},
   "outputs": [
    {
     "data": {
      "text/plain": [
       "['elma', 'çilek', 'muz']"
      ]
     },
     "execution_count": 19,
     "metadata": {},
     "output_type": "execute_result"
    }
   ],
   "source": [
    "meyveler = \"elma çilek muz\"\n",
    "meyveler_list=meyveler.split()\n",
    "meyveler_list"
   ]
  },
  {
   "cell_type": "code",
   "execution_count": 20,
   "id": "6f81edcf",
   "metadata": {},
   "outputs": [
    {
     "data": {
      "text/plain": [
       "['H', '-Kod Ver', ' B', 'l', 'm', ' Atölyes', '']"
      ]
     },
     "execution_count": 20,
     "metadata": {},
     "output_type": "execute_result"
    }
   ],
   "source": [
    "atolye = \"Hi-Kod Veri Bilimi Atölyesi\"\n",
    "atolye.split(\"i\")"
   ]
  },
  {
   "cell_type": "code",
   "execution_count": 21,
   "id": "e40fc76a",
   "metadata": {},
   "outputs": [
    {
     "data": {
      "text/plain": [
       "[4, 9, 'Python', 5.7, 'Hi-Kod']"
      ]
     },
     "execution_count": 21,
     "metadata": {},
     "output_type": "execute_result"
    }
   ],
   "source": [
    "new_list"
   ]
  },
  {
   "cell_type": "code",
   "execution_count": 22,
   "id": "183a43ae",
   "metadata": {},
   "outputs": [
    {
     "data": {
      "text/plain": [
       "5"
      ]
     },
     "execution_count": 22,
     "metadata": {},
     "output_type": "execute_result"
    }
   ],
   "source": [
    "len(new_list)"
   ]
  },
  {
   "cell_type": "code",
   "execution_count": 23,
   "id": "4c7a5775",
   "metadata": {},
   "outputs": [
    {
     "data": {
      "text/plain": [
       "[6, 'Elma', 5, [3, 'Armut', 1.2], [3.2, 8, 5]]"
      ]
     },
     "execution_count": 23,
     "metadata": {},
     "output_type": "execute_result"
    }
   ],
   "source": [
    "my_list2"
   ]
  },
  {
   "cell_type": "code",
   "execution_count": 24,
   "id": "1dbdf490",
   "metadata": {},
   "outputs": [
    {
     "data": {
      "text/plain": [
       "5"
      ]
     },
     "execution_count": 24,
     "metadata": {},
     "output_type": "execute_result"
    }
   ],
   "source": [
    "len(my_list2)"
   ]
  },
  {
   "cell_type": "code",
   "execution_count": 25,
   "id": "1c5ce0b6",
   "metadata": {},
   "outputs": [
    {
     "data": {
      "text/plain": [
       "(3, 4, 9, 5)"
      ]
     },
     "execution_count": 25,
     "metadata": {},
     "output_type": "execute_result"
    }
   ],
   "source": [
    "sayilar = 3,4,9,5\n",
    "sayilar"
   ]
  },
  {
   "cell_type": "code",
   "execution_count": 26,
   "id": "d7fd0367",
   "metadata": {},
   "outputs": [
    {
     "data": {
      "text/plain": [
       "tuple"
      ]
     },
     "execution_count": 26,
     "metadata": {},
     "output_type": "execute_result"
    }
   ],
   "source": [
    "type(sayilar)"
   ]
  },
  {
   "cell_type": "code",
   "execution_count": 27,
   "id": "1f93724d",
   "metadata": {},
   "outputs": [
    {
     "data": {
      "text/plain": [
       "[3, 4, 9, 5]"
      ]
     },
     "execution_count": 27,
     "metadata": {},
     "output_type": "execute_result"
    }
   ],
   "source": [
    "list(sayilar)"
   ]
  },
  {
   "cell_type": "code",
   "execution_count": 28,
   "id": "ada46dcf",
   "metadata": {},
   "outputs": [
    {
     "data": {
      "text/plain": [
       "[0, 1, 2, 3, 4, 5, 6, 7, 8, 9]"
      ]
     },
     "execution_count": 28,
     "metadata": {},
     "output_type": "execute_result"
    }
   ],
   "source": [
    "# 0'dan 9'a kadar olan sayıları liste içinde tutalım\n",
    "list(range(0,10))"
   ]
  },
  {
   "cell_type": "code",
   "execution_count": 29,
   "id": "c3b7ef55",
   "metadata": {},
   "outputs": [
    {
     "data": {
      "text/plain": [
       "[0, 1, 2, 3, 4, 5, 6, 7, 8, 9]"
      ]
     },
     "execution_count": 29,
     "metadata": {},
     "output_type": "execute_result"
    }
   ],
   "source": [
    "# 0'dan 9'a kadar olan sayıları liste içinde tutalım\n",
    "list(range(0,10))"
   ]
  },
  {
   "cell_type": "code",
   "execution_count": 30,
   "id": "1911eccf",
   "metadata": {},
   "outputs": [
    {
     "name": "stdout",
     "output_type": "stream",
     "text": [
      "0\n",
      "1\n",
      "2\n",
      "3\n",
      "4\n",
      "5\n"
     ]
    }
   ],
   "source": [
    "### 0'dan başlayıp listenin elemanı kadar sayıyı yazdıralım.\n",
    "meyveler=[\"elma\",\"armut\",\"muz\",\"çilek\",\"ayva\",\"kiraz\"]\n",
    "\n",
    "for i in range(0,len(meyveler)):\n",
    "    print(i)"
   ]
  },
  {
   "cell_type": "code",
   "execution_count": 31,
   "id": "4b81fdca",
   "metadata": {},
   "outputs": [
    {
     "name": "stdout",
     "output_type": "stream",
     "text": [
      "0 .indexdeki ifade: elma\n",
      "1 .indexdeki ifade: armut\n",
      "2 .indexdeki ifade: muz\n",
      "3 .indexdeki ifade: çilek\n",
      "4 .indexdeki ifade: ayva\n"
     ]
    }
   ],
   "source": [
    "### BERABER YAPALIM!!!!\n",
    "### for döngüsü kullanarak meyveleri ve bulundukları indexleri yazdıralım\n",
    "### 0. indexte bulunan meyve: elma\n",
    "meyveler=[\"elma\",\"armut\",\"muz\",\"çilek\",\"ayva\"]\n",
    "\n",
    "for i in range(0,len(meyveler)):\n",
    "    print(\"{} .indexdeki ifade: {}\".format(i,meyveler[i]))"
   ]
  },
  {
   "cell_type": "code",
   "execution_count": 32,
   "id": "68901b19",
   "metadata": {},
   "outputs": [
    {
     "name": "stdout",
     "output_type": "stream",
     "text": [
      "0. indexte bulunan meyve: elma\n",
      "1. indexte bulunan meyve: armut\n",
      "2. indexte bulunan meyve: muz\n",
      "3. indexte bulunan meyve: çilek\n",
      "4. indexte bulunan meyve: ayva\n"
     ]
    }
   ],
   "source": [
    "meyveler=[\"elma\",\"armut\",\"muz\",\"çilek\",\"ayva\"]\n",
    "a=0\n",
    "for meyve in meyveler:\n",
    "    print(f'{a}. indexte bulunan meyve:',meyve)\n",
    "    a=a+1"
   ]
  },
  {
   "cell_type": "code",
   "execution_count": 33,
   "id": "08e70ec1",
   "metadata": {},
   "outputs": [
    {
     "name": "stdout",
     "output_type": "stream",
     "text": [
      "0 . indexteki meyve : elma\n",
      "1 . indexteki meyve : muz\n",
      "2 . indexteki meyve : çilek\n",
      "3 . indexteki meyve : ayva\n",
      "4 . indexteki meyve : üzüm\n"
     ]
    }
   ],
   "source": [
    "meyveler = [\"elma\" , \"muz\" , \"çilek\",\"ayva\", \"üzüm\"]\n",
    "\n",
    "\n",
    "for i in range(0,len(meyveler)):\n",
    "    print(i , \". indexteki meyve :\" , meyveler[i])"
   ]
  },
  {
   "cell_type": "code",
   "execution_count": 34,
   "id": "8b02abf0",
   "metadata": {},
   "outputs": [
    {
     "data": {
      "text/plain": [
       "[6, 'Elma', 5, [3, 'Armut', 1.2], [3.2, 8, 5]]"
      ]
     },
     "execution_count": 34,
     "metadata": {},
     "output_type": "execute_result"
    }
   ],
   "source": [
    "my_list2"
   ]
  },
  {
   "cell_type": "code",
   "execution_count": 35,
   "id": "3aedb664",
   "metadata": {},
   "outputs": [
    {
     "data": {
      "text/plain": [
       "[3, 'Armut', 1.2]"
      ]
     },
     "execution_count": 35,
     "metadata": {},
     "output_type": "execute_result"
    }
   ],
   "source": [
    "my_list2[3]"
   ]
  },
  {
   "cell_type": "code",
   "execution_count": 36,
   "id": "5b020db2",
   "metadata": {},
   "outputs": [
    {
     "data": {
      "text/plain": [
       "'Armut'"
      ]
     },
     "execution_count": 36,
     "metadata": {},
     "output_type": "execute_result"
    }
   ],
   "source": [
    "### my_list2'nin \"Armut\" elemanına ulaşmak istersem? \n",
    "my_list2[3][1]"
   ]
  },
  {
   "cell_type": "code",
   "execution_count": 37,
   "id": "6d56552c",
   "metadata": {},
   "outputs": [
    {
     "data": {
      "text/plain": [
       "3.2"
      ]
     },
     "execution_count": 37,
     "metadata": {},
     "output_type": "execute_result"
    }
   ],
   "source": [
    "### 3.2'ye ulaşmak istersem\n",
    "my_list2[4][0]"
   ]
  },
  {
   "cell_type": "code",
   "execution_count": 38,
   "id": "06a90e52",
   "metadata": {},
   "outputs": [
    {
     "data": {
      "text/plain": [
       "3.2"
      ]
     },
     "execution_count": 38,
     "metadata": {},
     "output_type": "execute_result"
    }
   ],
   "source": [
    "my_list2[-1][-3]"
   ]
  },
  {
   "cell_type": "code",
   "execution_count": 39,
   "id": "6fa0cb55",
   "metadata": {},
   "outputs": [
    {
     "data": {
      "text/plain": [
       "3.2"
      ]
     },
     "execution_count": 39,
     "metadata": {},
     "output_type": "execute_result"
    }
   ],
   "source": [
    "my_list2[-1][0]"
   ]
  },
  {
   "cell_type": "code",
   "execution_count": 40,
   "id": "3a5bd43d",
   "metadata": {},
   "outputs": [],
   "source": [
    "sayilar = 3,4,9,5"
   ]
  },
  {
   "cell_type": "code",
   "execution_count": 41,
   "id": "f58cb229",
   "metadata": {},
   "outputs": [
    {
     "data": {
      "text/plain": [
       "(3, 4, 9, 5)"
      ]
     },
     "execution_count": 41,
     "metadata": {},
     "output_type": "execute_result"
    }
   ],
   "source": [
    "sayilar"
   ]
  },
  {
   "cell_type": "code",
   "execution_count": 42,
   "id": "82652ab0",
   "metadata": {},
   "outputs": [
    {
     "data": {
      "text/plain": [
       "[3, 4, 9, 5]"
      ]
     },
     "execution_count": 42,
     "metadata": {},
     "output_type": "execute_result"
    }
   ],
   "source": [
    "sayilar_liste = list(sayilar)\n",
    "sayilar_liste"
   ]
  },
  {
   "cell_type": "code",
   "execution_count": 43,
   "id": "f6f37492",
   "metadata": {},
   "outputs": [
    {
     "data": {
      "text/plain": [
       "[1, 2, 3, 4, 99, 97]"
      ]
     },
     "execution_count": 43,
     "metadata": {},
     "output_type": "execute_result"
    }
   ],
   "source": [
    "sayilar_liste[0:len(sayilar_liste)] = [1,2,3,4,99,97]\n",
    "sayilar_liste"
   ]
  },
  {
   "cell_type": "code",
   "execution_count": 44,
   "id": "fa8595aa",
   "metadata": {},
   "outputs": [
    {
     "data": {
      "text/plain": [
       "[5, 7, 'Merhaba', 6, 18, 9]"
      ]
     },
     "execution_count": 44,
     "metadata": {},
     "output_type": "execute_result"
    }
   ],
   "source": [
    "#append, listeye yeni öğe eklemek için kullanılır.\n",
    "my_list"
   ]
  },
  {
   "cell_type": "code",
   "execution_count": 45,
   "id": "b678673c",
   "metadata": {},
   "outputs": [],
   "source": [
    "my_list.append(\"Selam\")"
   ]
  },
  {
   "cell_type": "code",
   "execution_count": 46,
   "id": "2c27dd81",
   "metadata": {},
   "outputs": [
    {
     "data": {
      "text/plain": [
       "[5, 7, 'Merhaba', 6, 18, 9, 'Selam']"
      ]
     },
     "execution_count": 46,
     "metadata": {},
     "output_type": "execute_result"
    }
   ],
   "source": [
    "my_list"
   ]
  },
  {
   "cell_type": "code",
   "execution_count": 47,
   "id": "63917792",
   "metadata": {},
   "outputs": [
    {
     "data": {
      "text/plain": [
       "[5, 7, 'Merhaba', 6, 18, 9, 'Selam', 8.2]"
      ]
     },
     "execution_count": 47,
     "metadata": {},
     "output_type": "execute_result"
    }
   ],
   "source": [
    "my_list.append(8.2)\n",
    "my_list"
   ]
  },
  {
   "cell_type": "code",
   "execution_count": 48,
   "id": "038ec714",
   "metadata": {},
   "outputs": [],
   "source": [
    "###[\"Nasılsın\",9] listesini ekleyelim\n",
    "my_list.append([\"nasılsın\",9])"
   ]
  },
  {
   "cell_type": "code",
   "execution_count": 49,
   "id": "ac60a754",
   "metadata": {},
   "outputs": [
    {
     "data": {
      "text/plain": [
       "[5, 7, 'Merhaba', 6, 18, 9, 'Selam', 8.2, ['nasılsın', 9]]"
      ]
     },
     "execution_count": 49,
     "metadata": {},
     "output_type": "execute_result"
    }
   ],
   "source": [
    "my_list"
   ]
  },
  {
   "cell_type": "code",
   "execution_count": 50,
   "id": "933a3af2",
   "metadata": {},
   "outputs": [
    {
     "data": {
      "text/plain": [
       "[4, 9, 'Python', 5.7, 'Hi-Kod']"
      ]
     },
     "execution_count": 50,
     "metadata": {},
     "output_type": "execute_result"
    }
   ],
   "source": [
    "#insert, belirlenen indexe öğeyi ekler.\n",
    "new_list"
   ]
  },
  {
   "cell_type": "code",
   "execution_count": 51,
   "id": "0d5327a4",
   "metadata": {},
   "outputs": [],
   "source": [
    "new_list.insert(2,\"Veri Bilimi\")"
   ]
  },
  {
   "cell_type": "code",
   "execution_count": 52,
   "id": "e7653108",
   "metadata": {},
   "outputs": [
    {
     "data": {
      "text/plain": [
       "[4, 9, 'Veri Bilimi', 'Python', 5.7, 'Hi-Kod']"
      ]
     },
     "execution_count": 52,
     "metadata": {},
     "output_type": "execute_result"
    }
   ],
   "source": [
    "new_list"
   ]
  },
  {
   "cell_type": "code",
   "execution_count": 53,
   "id": "2872aae4",
   "metadata": {},
   "outputs": [
    {
     "data": {
      "text/plain": [
       "[4, 9, 'Veri Bilimi', 'Python', 6, 5.7, 'Hi-Kod']"
      ]
     },
     "execution_count": 53,
     "metadata": {},
     "output_type": "execute_result"
    }
   ],
   "source": [
    "### 4.indekse 6 sayısını ekleyelim\n",
    "new_list.insert(4,6)\n",
    "new_list"
   ]
  },
  {
   "cell_type": "code",
   "execution_count": 54,
   "id": "196e55e8",
   "metadata": {},
   "outputs": [
    {
     "data": {
      "text/plain": [
       "[4, '6', 9, 'Veri Bilimi', 'Python', 6, 5.7, 'Hi-Kod']"
      ]
     },
     "execution_count": 54,
     "metadata": {},
     "output_type": "execute_result"
    }
   ],
   "source": [
    "new_list.insert(1,\"6\")\n",
    "new_list"
   ]
  },
  {
   "cell_type": "code",
   "execution_count": 55,
   "id": "f178a416",
   "metadata": {},
   "outputs": [
    {
     "ename": "TypeError",
     "evalue": "insert expected 2 arguments, got 4",
     "output_type": "error",
     "traceback": [
      "\u001b[1;31m---------------------------------------------------------------------------\u001b[0m",
      "\u001b[1;31mTypeError\u001b[0m                                 Traceback (most recent call last)",
      "Input \u001b[1;32mIn [55]\u001b[0m, in \u001b[0;36m<cell line: 1>\u001b[1;34m()\u001b[0m\n\u001b[1;32m----> 1\u001b[0m \u001b[43mnew_list\u001b[49m\u001b[38;5;241;43m.\u001b[39;49m\u001b[43minsert\u001b[49m\u001b[43m(\u001b[49m\u001b[38;5;241;43m4\u001b[39;49m\u001b[43m,\u001b[49m\u001b[38;5;241;43m6\u001b[39;49m\u001b[43m,\u001b[49m\u001b[38;5;241;43m7\u001b[39;49m\u001b[43m,\u001b[49m\u001b[38;5;241;43m8\u001b[39;49m\u001b[43m)\u001b[49m\n\u001b[0;32m      2\u001b[0m new_list\n",
      "\u001b[1;31mTypeError\u001b[0m: insert expected 2 arguments, got 4"
     ]
    }
   ],
   "source": [
    "new_list.insert(4,6,7,8)\n",
    "new_list"
   ]
  },
  {
   "cell_type": "code",
   "execution_count": 56,
   "id": "bbc2969a",
   "metadata": {},
   "outputs": [
    {
     "data": {
      "text/plain": [
       "[4, '6', 9, 'Veri Bilimi', [6, 7, 8], 'Python', 6, 5.7, 'Hi-Kod']"
      ]
     },
     "execution_count": 56,
     "metadata": {},
     "output_type": "execute_result"
    }
   ],
   "source": [
    "new_list.insert(4,[6,7,8])\n",
    "new_list"
   ]
  },
  {
   "cell_type": "code",
   "execution_count": 57,
   "id": "368a95d2",
   "metadata": {},
   "outputs": [
    {
     "data": {
      "text/plain": [
       "[5, 7, 'Merhaba', 6, 18, 9, 'Selam', 8.2, ['nasılsın', 9]]"
      ]
     },
     "execution_count": 57,
     "metadata": {},
     "output_type": "execute_result"
    }
   ],
   "source": [
    "my_list"
   ]
  },
  {
   "cell_type": "code",
   "execution_count": 58,
   "id": "070e97cb",
   "metadata": {},
   "outputs": [
    {
     "name": "stdout",
     "output_type": "stream",
     "text": [
      "[5, 7, 'Merhaba', 6, 18, 9, 'Selam', 8.2, ['nasılsın', 9]]\n",
      "[4, '6', 9, 'Veri Bilimi', [6, 7, 8], 'Python', 6, 5.7, 'Hi-Kod']\n",
      "[5, 7, 'Merhaba', 6, 18, 9, 'Selam', 8.2, ['nasılsın', 9], 4, '6', 9, 'Veri Bilimi', [6, 7, 8], 'Python', 6, 5.7, 'Hi-Kod']\n"
     ]
    }
   ],
   "source": [
    "#extend, iki listeyi birbirine ekler.\n",
    "print(my_list)\n",
    "print(new_list)\n",
    "my_list.extend(new_list)\n",
    "print(my_list)"
   ]
  },
  {
   "cell_type": "code",
   "execution_count": 59,
   "id": "923df0f4",
   "metadata": {},
   "outputs": [
    {
     "data": {
      "text/plain": [
       "[4, '6', 9, 'Veri Bilimi', [6, 7, 8], 'Python', 6, 5.7, 'Hi-Kod']"
      ]
     },
     "execution_count": 59,
     "metadata": {},
     "output_type": "execute_result"
    }
   ],
   "source": [
    "new_list"
   ]
  },
  {
   "cell_type": "code",
   "execution_count": 60,
   "id": "d0426939",
   "metadata": {},
   "outputs": [
    {
     "name": "stdout",
     "output_type": "stream",
     "text": [
      "[4, '6', 9, 'Veri Bilimi', [6, 7, 8], 6, 5.7, 'Hi-Kod']\n"
     ]
    }
   ],
   "source": [
    "#remove,belirlenen öğeyi listeden siler\n",
    "new_list.remove(\"Python\")\n",
    "print(new_list)"
   ]
  },
  {
   "cell_type": "code",
   "execution_count": 61,
   "id": "ab0acec4",
   "metadata": {},
   "outputs": [
    {
     "data": {
      "text/plain": [
       "[4, '6', 9, 'Veri Bilimi', 6, 5.7, 'Hi-Kod']"
      ]
     },
     "execution_count": 61,
     "metadata": {},
     "output_type": "execute_result"
    }
   ],
   "source": [
    "#pop, belirlenen indexdeki öğeyi siler\n",
    "new_list.pop(4)\n",
    "new_list"
   ]
  },
  {
   "cell_type": "code",
   "execution_count": 62,
   "id": "d69fde91",
   "metadata": {},
   "outputs": [
    {
     "data": {
      "text/plain": [
       "[4, '6', 9, 'Veri Bilimi', 6, 5.7]"
      ]
     },
     "execution_count": 62,
     "metadata": {},
     "output_type": "execute_result"
    }
   ],
   "source": [
    "#listedeki son elemanı siler\n",
    "new_list.pop()\n",
    "new_list"
   ]
  },
  {
   "cell_type": "code",
   "execution_count": 63,
   "id": "b69661a3",
   "metadata": {},
   "outputs": [],
   "source": [
    "#clear, listenin tüm öğelerini siler.\n",
    "new_list.clear()"
   ]
  },
  {
   "cell_type": "code",
   "execution_count": 64,
   "id": "9d04992b",
   "metadata": {},
   "outputs": [
    {
     "data": {
      "text/plain": [
       "[]"
      ]
     },
     "execution_count": 64,
     "metadata": {},
     "output_type": "execute_result"
    }
   ],
   "source": [
    "new_list"
   ]
  },
  {
   "cell_type": "code",
   "execution_count": 65,
   "id": "e9d240c9",
   "metadata": {},
   "outputs": [
    {
     "data": {
      "text/plain": [
       "['elma', 'muz', 'çilek', 'ayva', 'üzüm']"
      ]
     },
     "execution_count": 65,
     "metadata": {},
     "output_type": "execute_result"
    }
   ],
   "source": [
    "meyveler"
   ]
  },
  {
   "cell_type": "code",
   "execution_count": 66,
   "id": "364ae60b",
   "metadata": {},
   "outputs": [
    {
     "data": {
      "text/plain": [
       "['elma', 'armut', 'ayva']"
      ]
     },
     "execution_count": 66,
     "metadata": {},
     "output_type": "execute_result"
    }
   ],
   "source": [
    "###new_meyveler listesi oluşturalım ve bu listeye meyveler listesindeki meyve isimlerinden içinde \"a\" harfi olanları ekleyelim.\n",
    "meyveler = ['elma', 'armut', 'muz', 'çilek', 'ayva']\n",
    "\n",
    "new_meyveler = []\n",
    "for meyve in meyveler:\n",
    "    if \"a\" in meyve:\n",
    "        new_meyveler.append(meyve)\n",
    "        \n",
    "new_meyveler"
   ]
  },
  {
   "cell_type": "code",
   "execution_count": 67,
   "id": "4e105aac",
   "metadata": {},
   "outputs": [],
   "source": [
    "new_meyve=[]\n",
    "liste=['elma', 'armut', 'muz', 'çilek', 'ayva']\n",
    "for meyve in meyveler:\n",
    "    if meyve==\"a\":\n",
    "        new_meyve.append(meyve)"
   ]
  },
  {
   "cell_type": "code",
   "execution_count": 68,
   "id": "c04761b3",
   "metadata": {},
   "outputs": [
    {
     "data": {
      "text/plain": [
       "[]"
      ]
     },
     "execution_count": 68,
     "metadata": {},
     "output_type": "execute_result"
    }
   ],
   "source": [
    "new_meyve"
   ]
  },
  {
   "cell_type": "code",
   "execution_count": 69,
   "id": "998431b9",
   "metadata": {},
   "outputs": [],
   "source": [
    "new_meyve=[]\n",
    "liste=['elma', 'armut', 'muz', 'çilek', 'ayva']\n",
    "for meyve in meyveler:\n",
    "      for i in meyve:\n",
    "        if i==\"a\":\n",
    "          new_meyve.append(meyve)"
   ]
  },
  {
   "cell_type": "code",
   "execution_count": 70,
   "id": "6c0aeee4",
   "metadata": {},
   "outputs": [
    {
     "data": {
      "text/plain": [
       "['elma', 'armut', 'ayva', 'ayva']"
      ]
     },
     "execution_count": 70,
     "metadata": {},
     "output_type": "execute_result"
    }
   ],
   "source": [
    "new_meyve"
   ]
  },
  {
   "cell_type": "code",
   "execution_count": 71,
   "id": "e8e2ecde",
   "metadata": {},
   "outputs": [
    {
     "data": {
      "text/plain": [
       "[8, 14, 7, 66, 37, 20, 4]"
      ]
     },
     "execution_count": 71,
     "metadata": {},
     "output_type": "execute_result"
    }
   ],
   "source": [
    "# sort fonksiyonu, listedeki öğeleri sıralar\n",
    "numbers = [8,14,7,66,37,20,4]\n",
    "numbers"
   ]
  },
  {
   "cell_type": "code",
   "execution_count": 72,
   "id": "16d6b9dd",
   "metadata": {},
   "outputs": [
    {
     "data": {
      "text/plain": [
       "[4, 7, 8, 14, 20, 37, 66]"
      ]
     },
     "execution_count": 72,
     "metadata": {},
     "output_type": "execute_result"
    }
   ],
   "source": [
    "numbers.sort()\n",
    "numbers"
   ]
  },
  {
   "cell_type": "code",
   "execution_count": 73,
   "id": "74309565",
   "metadata": {},
   "outputs": [
    {
     "data": {
      "text/plain": [
       "['elma', 'muz', 'portakal', 'ayva', 'mandalina']"
      ]
     },
     "execution_count": 73,
     "metadata": {},
     "output_type": "execute_result"
    }
   ],
   "source": [
    "meyveler = [\"elma\",\"muz\",\"portakal\",\"ayva\",\"mandalina\"]\n",
    "meyveler"
   ]
  },
  {
   "cell_type": "code",
   "execution_count": 74,
   "id": "4bcc0708",
   "metadata": {},
   "outputs": [
    {
     "data": {
      "text/plain": [
       "['ayva', 'elma', 'mandalina', 'muz', 'portakal']"
      ]
     },
     "execution_count": 74,
     "metadata": {},
     "output_type": "execute_result"
    }
   ],
   "source": [
    "###Meyveler listesinde sort fonkiyonu kullanabilir miyim? Sonucu ne olur?\n",
    "meyveler.sort()\n",
    "meyveler"
   ]
  },
  {
   "cell_type": "code",
   "execution_count": 75,
   "id": "895905c9",
   "metadata": {},
   "outputs": [
    {
     "name": "stdout",
     "output_type": "stream",
     "text": [
      "['portakal', 'muz', 'mandalina', 'elma', 'ayva']\n"
     ]
    }
   ],
   "source": [
    "meyveler = [\"elma\",\"muz\",\"portakal\",\"ayva\",\"mandalina\"]\n",
    "meyveler.sort(reverse = True)\n",
    "print(meyveler)"
   ]
  },
  {
   "cell_type": "code",
   "execution_count": 76,
   "id": "6fc22b45",
   "metadata": {},
   "outputs": [
    {
     "data": {
      "text/plain": [
       "['mandalina', 'ayva', 'portakal', 'muz', 'elma']"
      ]
     },
     "execution_count": 76,
     "metadata": {},
     "output_type": "execute_result"
    }
   ],
   "source": [
    "#reverse, listeyi tersine çevirir\n",
    "meyveler = [\"elma\",\"muz\",\"portakal\",\"ayva\",\"mandalina\"]\n",
    "meyveler.reverse()\n",
    "meyveler"
   ]
  },
  {
   "cell_type": "code",
   "execution_count": 77,
   "id": "ac7891aa",
   "metadata": {},
   "outputs": [
    {
     "data": {
      "text/plain": [
       "[4, 20, 37, 66, 7, 14, 8]"
      ]
     },
     "execution_count": 77,
     "metadata": {},
     "output_type": "execute_result"
    }
   ],
   "source": [
    "numbers = [8,14,7,66,37,20,4]\n",
    "numbers.reverse()\n",
    "numbers"
   ]
  },
  {
   "cell_type": "code",
   "execution_count": 78,
   "id": "bc3a7a65",
   "metadata": {},
   "outputs": [
    {
     "data": {
      "text/plain": [
       "[4, 20, 37, 66, 7, 14, 8]"
      ]
     },
     "execution_count": 78,
     "metadata": {},
     "output_type": "execute_result"
    }
   ],
   "source": [
    "#copy fonksiyonu ile listeyi kopyalayabiliriz.\n",
    "new_numbers = numbers.copy()\n",
    "new_numbers"
   ]
  },
  {
   "cell_type": "code",
   "execution_count": 79,
   "id": "a48da020",
   "metadata": {},
   "outputs": [
    {
     "data": {
      "text/plain": [
       "[4, 20, 37, 66, 7, 14, 8]"
      ]
     },
     "execution_count": 79,
     "metadata": {},
     "output_type": "execute_result"
    }
   ],
   "source": [
    "new_numbers2 = numbers\n",
    "new_numbers2"
   ]
  },
  {
   "cell_type": "code",
   "execution_count": 80,
   "id": "71cdcbf0",
   "metadata": {},
   "outputs": [
    {
     "data": {
      "text/plain": [
       "[4, 20, 37, 66, 7, 14, 8, 'Hello']"
      ]
     },
     "execution_count": 80,
     "metadata": {},
     "output_type": "execute_result"
    }
   ],
   "source": [
    "numbers.append(\"Hello\")\n",
    "numbers"
   ]
  },
  {
   "cell_type": "code",
   "execution_count": 81,
   "id": "41050a7b",
   "metadata": {},
   "outputs": [
    {
     "data": {
      "text/plain": [
       "[4, 20, 37, 66, 7, 14, 8]"
      ]
     },
     "execution_count": 81,
     "metadata": {},
     "output_type": "execute_result"
    }
   ],
   "source": [
    "new_numbers"
   ]
  },
  {
   "cell_type": "code",
   "execution_count": 82,
   "id": "27e31ca8",
   "metadata": {},
   "outputs": [
    {
     "data": {
      "text/plain": [
       "[4, 20, 37, 66, 7, 14, 8, 'Hello']"
      ]
     },
     "execution_count": 82,
     "metadata": {},
     "output_type": "execute_result"
    }
   ],
   "source": [
    "new_numbers2"
   ]
  },
  {
   "cell_type": "code",
   "execution_count": null,
   "id": "45f775ab",
   "metadata": {},
   "outputs": [],
   "source": []
  }
 ],
 "metadata": {
  "kernelspec": {
   "display_name": "Python 3 (ipykernel)",
   "language": "python",
   "name": "python3"
  },
  "language_info": {
   "codemirror_mode": {
    "name": "ipython",
    "version": 3
   },
   "file_extension": ".py",
   "mimetype": "text/x-python",
   "name": "python",
   "nbconvert_exporter": "python",
   "pygments_lexer": "ipython3",
   "version": "3.9.12"
  }
 },
 "nbformat": 4,
 "nbformat_minor": 5
}
