{
 "cells": [
  {
   "cell_type": "code",
   "execution_count": 15,
   "id": "3bf39449",
   "metadata": {},
   "outputs": [
    {
     "name": "stdout",
     "output_type": "stream",
     "text": [
      "0. indexte bulunan meyve: elma\n",
      "1. indexte bulunan meyve: armut\n",
      "2. indexte bulunan meyve: cilek\n"
     ]
    }
   ],
   "source": [
    "meyveler = [\"elma\",\"armut\",\"cilek\"]\n",
    "\n",
    "for index in range(len(meyveler)):\n",
    "    print(\"{}. indexte bulunan meyve: {}\".format(index,meyveler[index]))"
   ]
  },
  {
   "cell_type": "code",
   "execution_count": 16,
   "id": "189a78d3",
   "metadata": {},
   "outputs": [
    {
     "data": {
      "text/plain": [
       "['elma', 'armut', 'cilek']"
      ]
     },
     "execution_count": 16,
     "metadata": {},
     "output_type": "execute_result"
    }
   ],
   "source": [
    "yeni_liste = list(meyveler)\n",
    "yeni_liste"
   ]
  },
  {
   "cell_type": "code",
   "execution_count": 18,
   "id": "3a8e5f0e",
   "metadata": {},
   "outputs": [
    {
     "data": {
      "text/plain": [
       "['elma', 'armut', 'cilek']"
      ]
     },
     "execution_count": 18,
     "metadata": {},
     "output_type": "execute_result"
    }
   ],
   "source": [
    "meyveler = ['elma', 'armut', 'cilek']\n",
    "\n",
    "yeni_list = []\n",
    "for meyve in meyveler:\n",
    "        yeni_list.append(meyve)\n",
    "        \n",
    "yeni_list"
   ]
  },
  {
   "cell_type": "code",
   "execution_count": null,
   "id": "37519617",
   "metadata": {},
   "outputs": [],
   "source": []
  }
 ],
 "metadata": {
  "kernelspec": {
   "display_name": "Python 3 (ipykernel)",
   "language": "python",
   "name": "python3"
  },
  "language_info": {
   "codemirror_mode": {
    "name": "ipython",
    "version": 3
   },
   "file_extension": ".py",
   "mimetype": "text/x-python",
   "name": "python",
   "nbconvert_exporter": "python",
   "pygments_lexer": "ipython3",
   "version": "3.11.4"
  }
 },
 "nbformat": 4,
 "nbformat_minor": 5
}
