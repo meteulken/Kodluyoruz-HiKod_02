{
 "cells": [
  {
   "cell_type": "markdown",
   "id": "fb1ae51c",
   "metadata": {},
   "source": [
    "# Fonksiyolar\n",
    "\n",
    "- Fonksiyonlar iki aşamadan oluşur; tanımlama ve çağırma.\n",
    "- Fonksiyonu tanımlamak için <code> def </code> ifadesi kullanılır.\n",
    "- Tanımlanacak fonksiyonun adı belirtilir ve iki nokta üst üste koyulur.\n",
    "- Girintili olarak fonksiyonun yapacağı işlemin kodu yazılır.\n",
    "- Girintinin dışına çıkıldığıda fonksiyonun tanımı biter."
   ]
  },
  {
   "cell_type": "code",
   "execution_count": 1,
   "id": "ea57cf32",
   "metadata": {},
   "outputs": [
    {
     "name": "stdout",
     "output_type": "stream",
     "text": [
      "5 sayısına 1 eklenirse 6 olur\n"
     ]
    }
   ],
   "source": [
    "#şimdiye kadar fonksiyonlar kullandık bunlar neler? (print,type,int,str..)(Bunlara gömülü fonksiyonlar denir)\n",
    "#Özel fonksiyonlar, kullanıcıların kendi ihtiyaçlarına yönelik fonksiyon oluşturmalarıdır.\n",
    "#Yaş değerine 1 eklemeyi fonksiyon ile yapalım\n",
    "\n",
    "def ekle(sayi):\n",
    "    yeni_sayi = sayi + 1\n",
    "    print(str(sayi) + \" sayısına 1 eklenirse \"+ str(yeni_sayi) + \" olur\")\n",
    "ekle(5)"
   ]
  },
  {
   "cell_type": "markdown",
   "id": "612706c2",
   "metadata": {},
   "source": [
    "#### format() methodu ile print "
   ]
  },
  {
   "cell_type": "code",
   "execution_count": 1,
   "id": "86ddc5d9",
   "metadata": {},
   "outputs": [
    {
     "name": "stdout",
     "output_type": "stream",
     "text": [
      "5 sayısına 1 eklenirse 6 olur\n"
     ]
    }
   ],
   "source": [
    "def ekle(sayi):\n",
    "    yeni_sayi = sayi + 1\n",
    "    print(\"{} sayısına 1 eklenirse {} olur\".format(sayi,yeni_sayi))\n",
    "ekle(5)"
   ]
  },
  {
   "cell_type": "markdown",
   "id": "74692fd6",
   "metadata": {},
   "source": [
    "#### f-string ile print"
   ]
  },
  {
   "cell_type": "code",
   "execution_count": 2,
   "id": "30cb9f26",
   "metadata": {},
   "outputs": [
    {
     "name": "stdout",
     "output_type": "stream",
     "text": [
      "5 sayısına 1 eklenirse 6 olur\n"
     ]
    }
   ],
   "source": [
    "def ekle(sayi):\n",
    "    yeni_sayi = sayi + 1\n",
    "    print(f\"{sayi} sayısına 1 eklenirse {yeni_sayi} olur\")\n",
    "ekle(5)"
   ]
  },
  {
   "cell_type": "code",
   "execution_count": 2,
   "id": "f0b755cb",
   "metadata": {},
   "outputs": [
    {
     "name": "stdout",
     "output_type": "stream",
     "text": [
      "Müşteri adı:  muserrefozkan\n",
      "Müşteri numarası:  259483\n",
      "Şehir:  Isparta\n",
      "Meslek:  Eğitmen\n"
     ]
    }
   ],
   "source": [
    "#fonksiyonların bize nasıl bir kolaylık sağladığını anlatmak için\n",
    "musteri_adi = \"muserrefozkan\"\n",
    "musteri_no = \"259483\"\n",
    "sehir=\"Isparta\"\n",
    "meslek=\"Eğitmen\"\n",
    "\n",
    "print(\"Müşteri adı: \", musteri_adi)\n",
    "print(\"Müşteri numarası: \", musteri_no)\n",
    "print(\"Şehir: \", sehir)\n",
    "print(\"Meslek: \", meslek)"
   ]
  },
  {
   "cell_type": "code",
   "execution_count": 3,
   "id": "fa6540f0",
   "metadata": {},
   "outputs": [
    {
     "name": "stdout",
     "output_type": "stream",
     "text": [
      "Müşteri adı:  muserrefozkan\n",
      "Müşteri numarası:  259483\n",
      "Şehir:  Isparta\n",
      "Meslek:  Eğitmen\n",
      "-------------------------\n",
      "Müşteri adı:  elifyilmaz\n",
      "Müşteri numarası:  763486\n",
      "Şehir:  Antalya\n",
      "Meslek:  Hemşire\n"
     ]
    }
   ],
   "source": [
    "musteri_adi = \"muserrefozkan\"\n",
    "musteri_no = \"259483\"\n",
    "sehir=\"Isparta\"\n",
    "meslek=\"Eğitmen\"\n",
    "\n",
    "print(\"Müşteri adı: \", musteri_adi)\n",
    "print(\"Müşteri numarası: \", musteri_no)\n",
    "print(\"Şehir: \", sehir)\n",
    "print(\"Meslek: \", meslek)\n",
    "print(\"-------------------------\")\n",
    "musteri_adi = \"elifyilmaz\"\n",
    "musteri_no = \"763486\"\n",
    "sehir=\"Antalya\"\n",
    "meslek=\"Hemşire\"\n",
    "\n",
    "print(\"Müşteri adı: \", musteri_adi)\n",
    "print(\"Müşteri numarası: \", musteri_no)\n",
    "print(\"Şehir: \", sehir)\n",
    "print(\"Meslek: \", meslek)"
   ]
  },
  {
   "cell_type": "code",
   "execution_count": 4,
   "id": "38f3c66d",
   "metadata": {},
   "outputs": [
    {
     "name": "stdout",
     "output_type": "stream",
     "text": [
      "Müşteri adı:  muserrefozkan\n",
      "Müşteri numarası:  254639\n",
      "Şehir:  Isparta\n",
      "Meslek:  Eğitmen\n",
      "-------------------------\n",
      "Müşteri adı:  elifyılmaz\n",
      "Müşteri numarası:  763486\n",
      "Şehir:  Antalya\n",
      "Meslek:  Hemşire\n",
      "-------------------------\n"
     ]
    }
   ],
   "source": [
    "def musteri_bilgileri(isim,numara,sehir,meslek):\n",
    "    print(\"Müşteri adı: \", isim)\n",
    "    print(\"Müşteri numarası: \", numara)\n",
    "    print(\"Şehir: \", sehir)\n",
    "    print(\"Meslek: \", meslek)\n",
    "    print(\"-------------------------\")\n",
    "\n",
    "musteri_bilgileri(\"muserrefozkan\",\"254639\",\"Isparta\",\"Eğitmen\")\n",
    "musteri_bilgileri(\"elifyılmaz\",\"763486\",\"Antalya\",\"Hemşire\")"
   ]
  },
  {
   "cell_type": "code",
   "execution_count": 3,
   "id": "8d6e638f",
   "metadata": {},
   "outputs": [
    {
     "name": "stdout",
     "output_type": "stream",
     "text": [
      "9 sayısının karesi 81\n",
      "16 sayısının karesi 256\n",
      "25 sayısının karesi 625\n"
     ]
    }
   ],
   "source": [
    "#üç sayı tanımla ve bunların karesini print ile yazdır.\n",
    "sayi1=9\n",
    "print(str(sayi1 )+ \" sayısının karesi \" + str(sayi1**2))\n",
    "\n",
    "sayi2=16\n",
    "print(str(sayi2 )+ \" sayısının karesi \" + str(sayi2**2))\n",
    "\n",
    "sayi3=25\n",
    "print(str(sayi3 )+ \"sayısının karesi \" + str(sayi3**2))"
   ]
  },
  {
   "cell_type": "code",
   "execution_count": 4,
   "id": "3bc0982b",
   "metadata": {},
   "outputs": [
    {
     "name": "stdout",
     "output_type": "stream",
     "text": [
      "9 sayısının karesi 81\n",
      "16 sayısının karesi 256\n",
      "25 sayısının karesi 625\n"
     ]
    }
   ],
   "source": [
    "#kare hesaplama işlemi için fonksiyon oluştur\n",
    "def kare_hesaplama(sayi):\n",
    "    sonuc = sayi**2\n",
    "    print(\"{} sayısının karesi {}\".format(sayi,sayi**2))\n",
    "\n",
    "kare_hesaplama(9)\n",
    "kare_hesaplama(16)\n",
    "kare_hesaplama(25)"
   ]
  },
  {
   "cell_type": "code",
   "execution_count": 8,
   "id": "72039b9e",
   "metadata": {},
   "outputs": [
    {
     "name": "stdout",
     "output_type": "stream",
     "text": [
      "9 sayısının karesi 81 , küpü 729\n",
      "16 sayısının karesi 256 , küpü 4096\n",
      "25sayısının karesi 625 , küpü 15625\n"
     ]
    }
   ],
   "source": [
    "#konudumuza yenilikler kattığımızda fonksiyonda bunu yapmamnın ne kadar kolay olduğunu göstermek için\n",
    "#üç sayı tanımla ve bunların karesini print ile yazdır.\n",
    "sayi1=9\n",
    "print(str(sayi1 )+ \" sayısının karesi \" + str(sayi1**2) + \" , küpü \" + str(sayi1**3))\n",
    "\n",
    "sayi2=16\n",
    "print(str(sayi2 )+ \" sayısının karesi \" + str(sayi2**2) + \" , küpü \" + str(sayi2**3))\n",
    "\n",
    "sayi3=25\n",
    "print(str(sayi3 )+ \"sayısının karesi \" + str(sayi3**2) + \" , küpü \" + str(sayi3**3))"
   ]
  },
  {
   "cell_type": "code",
   "execution_count": 8,
   "id": "345a8f9d",
   "metadata": {},
   "outputs": [
    {
     "name": "stdout",
     "output_type": "stream",
     "text": [
      "9 sayısının karesi 81 , küpü 729\n",
      "16 sayısının karesi 256 , küpü 4096\n",
      "25 sayısının karesi 625 , küpü 15625\n"
     ]
    }
   ],
   "source": [
    "#kare hesaplama işlemi için fonksiyon oluştur\n",
    "def kare_hesaplama(sayi):\n",
    "    sonuc = sayi**2\n",
    "    print(str(sayi) + \" sayısının karesi \" + str(sonuc), \", küpü \" + str(sayi**3))\n",
    "\n",
    "kare_hesaplama(9)\n",
    "kare_hesaplama(16)\n",
    "kare_hesaplama(25)"
   ]
  },
  {
   "cell_type": "code",
   "execution_count": 9,
   "id": "33adb3be",
   "metadata": {},
   "outputs": [],
   "source": [
    "#return ve print farkı\n",
    "#iki örneğide print ve return ile gösterelim"
   ]
  },
  {
   "cell_type": "code",
   "execution_count": 10,
   "id": "acc5dc1e",
   "metadata": {},
   "outputs": [
    {
     "name": "stdout",
     "output_type": "stream",
     "text": [
      "4\n"
     ]
    },
    {
     "ename": "TypeError",
     "evalue": "unsupported operand type(s) for *: 'NoneType' and 'int'",
     "output_type": "error",
     "traceback": [
      "\u001b[1;31m---------------------------------------------------------------------------\u001b[0m",
      "\u001b[1;31mTypeError\u001b[0m                                 Traceback (most recent call last)",
      "Input \u001b[1;32mIn [10]\u001b[0m, in \u001b[0;36m<cell line: 5>\u001b[1;34m()\u001b[0m\n\u001b[0;32m      2\u001b[0m     sonuc \u001b[38;5;241m=\u001b[39m sayi\u001b[38;5;241m*\u001b[39m\u001b[38;5;241m*\u001b[39m\u001b[38;5;241m2\u001b[39m\n\u001b[0;32m      3\u001b[0m     \u001b[38;5;28mprint\u001b[39m(sonuc)\n\u001b[1;32m----> 5\u001b[0m \u001b[38;5;28mprint\u001b[39m(\u001b[43mkare_hesaplama\u001b[49m\u001b[43m(\u001b[49m\u001b[38;5;241;43m2\u001b[39;49m\u001b[43m)\u001b[49m\u001b[38;5;241;43m*\u001b[39;49m\u001b[38;5;241;43m3\u001b[39;49m)\n",
      "\u001b[1;31mTypeError\u001b[0m: unsupported operand type(s) for *: 'NoneType' and 'int'"
     ]
    }
   ],
   "source": [
    "def kare_hesaplama(sayi):\n",
    "    sonuc = sayi**2\n",
    "    print(sonuc)\n",
    "\n",
    "print(kare_hesaplama(2)*3)"
   ]
  },
  {
   "cell_type": "code",
   "execution_count": 11,
   "id": "fd209e23",
   "metadata": {},
   "outputs": [
    {
     "name": "stdout",
     "output_type": "stream",
     "text": [
      "Merhaba, ismin ne? Selin\n"
     ]
    },
    {
     "data": {
      "text/plain": [
       "'Selin'"
      ]
     },
     "execution_count": 11,
     "metadata": {},
     "output_type": "execute_result"
    }
   ],
   "source": [
    "def isim_bilgisi():\n",
    "    isim = input(\"Merhaba, ismin ne? \")\n",
    "    return isim\n",
    "isim_bilgisi()"
   ]
  },
  {
   "cell_type": "code",
   "execution_count": 12,
   "id": "5a525003",
   "metadata": {},
   "outputs": [
    {
     "name": "stdout",
     "output_type": "stream",
     "text": [
      "Merhaba, ismin ne? Selin\n",
      "Merhaba Selin kaç yaşındasın?\n"
     ]
    }
   ],
   "source": [
    "print(\"Merhaba {} kaç yaşındasın?\".format(isim_bilgisi()))"
   ]
  },
  {
   "cell_type": "code",
   "execution_count": 13,
   "id": "60ea3b01",
   "metadata": {},
   "outputs": [
    {
     "name": "stdout",
     "output_type": "stream",
     "text": [
      "3\n"
     ]
    }
   ],
   "source": [
    "#returnden sonraki kod ifadeleri çalışmaz\n",
    "\n",
    "def sayi():\n",
    "    print(3)\n",
    "    return\n",
    "    print(5)\n",
    "\n",
    "sayi()"
   ]
  },
  {
   "cell_type": "markdown",
   "id": "74214020",
   "metadata": {},
   "source": [
    "# Fonksiyonlar Ek\n"
   ]
  },
  {
   "cell_type": "code",
   "execution_count": 14,
   "id": "a59df5a9",
   "metadata": {},
   "outputs": [],
   "source": [
    "def karesi(*sayilar):\n",
    "    for i in sayilar:\n",
    "        sonuc = i **2\n",
    "        print(\"Girilen {} sayının karesi: {}\".format(i,sonuc))"
   ]
  },
  {
   "cell_type": "code",
   "execution_count": 15,
   "id": "98e40de3",
   "metadata": {},
   "outputs": [
    {
     "name": "stdout",
     "output_type": "stream",
     "text": [
      "Girilen 4 sayının karesi: 16\n",
      "Girilen 9 sayının karesi: 81\n",
      "Girilen 5 sayının karesi: 25\n"
     ]
    }
   ],
   "source": [
    "karesi(4,9,5)"
   ]
  },
  {
   "cell_type": "markdown",
   "id": "6d36ef32",
   "metadata": {},
   "source": [
    "- Rastgele Sayıda İsimsiz Parametre Belirleme:"
   ]
  },
  {
   "cell_type": "markdown",
   "id": "28e5d47f",
   "metadata": {},
   "source": [
    "Yıldızlı parametreler, oluşturulan fonksiyonda bir parametre kısıtlaması yapmak istenilmediği zaman kullanılır.\n",
    "\n",
    "Yıldızlı parametre kullanıldığında yaygın olarak parametre ismine 'argümanlar' anlamına gelen 'args' verilir. \n",
    "\n",
    "def fonksiyon_adi(*args)"
   ]
  },
  {
   "cell_type": "code",
   "execution_count": 16,
   "id": "4bc48e10",
   "metadata": {},
   "outputs": [
    {
     "name": "stdout",
     "output_type": "stream",
     "text": [
      "(3, 5, 6)\n"
     ]
    }
   ],
   "source": [
    "def sayilar(*sayi):\n",
    "    print(sayi)\n",
    "\n",
    "sayilar(3,5,6)"
   ]
  },
  {
   "cell_type": "code",
   "execution_count": 17,
   "id": "4855b193",
   "metadata": {},
   "outputs": [],
   "source": [
    "#Beraber Yapalım: Fonksiyona istenildiği kadar sayı girilsin ve buu sayıların çarpımını bulalım.\n",
    "\n",
    "def carpim(*sayilar):\n",
    "    sonuc = 1\n",
    "    for i in sayilar:\n",
    "        sonuc = sonuc * i\n",
    "    print(sonuc)"
   ]
  },
  {
   "cell_type": "code",
   "execution_count": 18,
   "id": "132cd251",
   "metadata": {},
   "outputs": [
    {
     "name": "stdout",
     "output_type": "stream",
     "text": [
      "36\n"
     ]
    }
   ],
   "source": [
    "carpim(2,3,6)"
   ]
  },
  {
   "cell_type": "markdown",
   "id": "73e3091f",
   "metadata": {},
   "source": [
    "- Rastgele Sayıda İsimli Parametre Belirleme"
   ]
  },
  {
   "cell_type": "code",
   "execution_count": 19,
   "id": "e6e76b42",
   "metadata": {},
   "outputs": [
    {
     "name": "stdout",
     "output_type": "stream",
     "text": [
      "{'isim': 'Ayşe', 'soyisim': 'Yılmaz', 'Yas': '22'}\n",
      "{'isim': 'Burak', 'soyisim': 'Tunç', 'Yas': '34', 'Meslek': 'Öğretmen'}\n"
     ]
    }
   ],
   "source": [
    "def kayit(**kwargs):\n",
    "    print(kwargs)\n",
    "\n",
    "kayit(isim=\"Ayşe\",soyisim=\"Yılmaz\",Yas=\"22\")\n",
    "kayit(isim=\"Burak\",soyisim=\"Tunç\",Yas=\"34\",Meslek=\"Öğretmen\")"
   ]
  },
  {
   "cell_type": "code",
   "execution_count": null,
   "id": "4c5a0816",
   "metadata": {},
   "outputs": [],
   "source": []
  }
 ],
 "metadata": {
  "kernelspec": {
   "display_name": "Python 3 (ipykernel)",
   "language": "python",
   "name": "python3"
  },
  "language_info": {
   "codemirror_mode": {
    "name": "ipython",
    "version": 3
   },
   "file_extension": ".py",
   "mimetype": "text/x-python",
   "name": "python",
   "nbconvert_exporter": "python",
   "pygments_lexer": "ipython3",
   "version": "3.9.12"
  }
 },
 "nbformat": 4,
 "nbformat_minor": 5
}
