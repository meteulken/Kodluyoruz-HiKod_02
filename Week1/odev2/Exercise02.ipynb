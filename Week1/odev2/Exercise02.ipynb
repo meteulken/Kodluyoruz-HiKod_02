{
 "cells": [
  {
   "cell_type": "code",
   "execution_count": 18,
   "id": "772d1b06",
   "metadata": {},
   "outputs": [
    {
     "name": "stdout",
     "output_type": "stream",
     "text": [
      "Kullanıcı Adı Giriniz :Mete\n",
      "Sifre Giriniz :123123\n",
      "Hesabınız başarıyla oluşturuldu\n"
     ]
    }
   ],
   "source": [
    "id = input(\"Kullanıcı Adı Giriniz :\")\n",
    "while True:\n",
    "    pw = input(\"Sifre Giriniz :\")\n",
    "    if(len(pw) < 6):\n",
    "        print(\"Şifreniz 6 haneden az olamaz!\")\n",
    "    else:\n",
    "        print(\"Hesabınız başarıyla oluşturuldu\")\n",
    "        break"
   ]
  },
  {
   "cell_type": "code",
   "execution_count": null,
   "id": "dcbf588c",
   "metadata": {},
   "outputs": [],
   "source": []
  }
 ],
 "metadata": {
  "kernelspec": {
   "display_name": "Python 3 (ipykernel)",
   "language": "python",
   "name": "python3"
  },
  "language_info": {
   "codemirror_mode": {
    "name": "ipython",
    "version": 3
   },
   "file_extension": ".py",
   "mimetype": "text/x-python",
   "name": "python",
   "nbconvert_exporter": "python",
   "pygments_lexer": "ipython3",
   "version": "3.11.4"
  }
 },
 "nbformat": 4,
 "nbformat_minor": 5
}
