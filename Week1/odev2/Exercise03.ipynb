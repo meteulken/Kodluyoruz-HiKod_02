{
 "cells": [
  {
   "cell_type": "code",
   "execution_count": 2,
   "id": "5785cfe5",
   "metadata": {},
   "outputs": [
    {
     "name": "stdout",
     "output_type": "stream",
     "text": [
      "Kullanıcı Adı Giriniz: mete\n",
      "Şifre Giriniz (5-10 karakter): 1\n",
      "Lütfen girdiğiniz şifre 5 ile 10 karakter arasında olsun!\n",
      "Şifre Giriniz (5-10 karakter): 11111111111111111111\n",
      "Lütfen girdiğiniz şifre 5 ile 10 karakter arasında olsun!\n",
      "Şifre Giriniz (5-10 karakter): 123456\n",
      "Hesabınız başarıyla oluşturuldu.\n"
     ]
    }
   ],
   "source": [
    "id = input(\"Kullanıcı Adı Giriniz: \")\n",
    "while True:\n",
    "    pw = input(\"Şifre Giriniz (5-10 karakter): \")\n",
    "    if 5 <= len(pw) <= 10:\n",
    "        print(\"Hesabınız başarıyla oluşturuldu.\")\n",
    "        break\n",
    "    else:\n",
    "        print(\"Lütfen girdiğiniz şifre 5 ile 10 karakter arasında olsun!\")\n"
   ]
  },
  {
   "cell_type": "code",
   "execution_count": null,
   "id": "86aa487b",
   "metadata": {},
   "outputs": [],
   "source": []
  }
 ],
 "metadata": {
  "kernelspec": {
   "display_name": "Python 3 (ipykernel)",
   "language": "python",
   "name": "python3"
  },
  "language_info": {
   "codemirror_mode": {
    "name": "ipython",
    "version": 3
   },
   "file_extension": ".py",
   "mimetype": "text/x-python",
   "name": "python",
   "nbconvert_exporter": "python",
   "pygments_lexer": "ipython3",
   "version": "3.11.4"
  }
 },
 "nbformat": 4,
 "nbformat_minor": 5
}
