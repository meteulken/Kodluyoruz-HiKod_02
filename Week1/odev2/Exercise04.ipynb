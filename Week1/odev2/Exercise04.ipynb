{
 "cells": [
  {
   "cell_type": "code",
   "execution_count": 10,
   "id": "cdcbd893",
   "metadata": {},
   "outputs": [
    {
     "name": "stdout",
     "output_type": "stream",
     "text": [
      "Kullanıcı Adı Giriniz: mee\n",
      "Şifre Giriniz : 123\n",
      "Yanlış şifre girildi!\n",
      "2 kadar hakkınız kaldı.\n",
      "Şifre Giriniz : 2\n",
      "Yanlış şifre girildi!\n",
      "1 kadar hakkınız kaldı.\n",
      "Şifre Giriniz : mete1\n",
      "Giriş yapıldı.\n"
     ]
    }
   ],
   "source": [
    "sifre = \"mete1\"\n",
    "id = input(\"Kullanıcı Adı Giriniz: \")\n",
    "hak = 3\n",
    "\n",
    "while hak > 0:\n",
    "    pw = input(\"Şifre Giriniz : \")\n",
    "    if pw == sifre:\n",
    "        print(\"Giriş yapıldı.\")\n",
    "        break\n",
    "    else:\n",
    "        print(\"Yanlış şifre girildi!\")\n",
    "        hak -= 1\n",
    "        if hak > 0:\n",
    "            print(hak, \"kadar hakkınız kaldı.\")\n",
    "        else:\n",
    "            print(\"Şifre deneme Hakkınız kalmadı.\")"
   ]
  },
  {
   "cell_type": "code",
   "execution_count": null,
   "id": "9a996b79",
   "metadata": {},
   "outputs": [],
   "source": []
  }
 ],
 "metadata": {
  "kernelspec": {
   "display_name": "Python 3 (ipykernel)",
   "language": "python",
   "name": "python3"
  },
  "language_info": {
   "codemirror_mode": {
    "name": "ipython",
    "version": 3
   },
   "file_extension": ".py",
   "mimetype": "text/x-python",
   "name": "python",
   "nbconvert_exporter": "python",
   "pygments_lexer": "ipython3",
   "version": "3.11.4"
  }
 },
 "nbformat": 4,
 "nbformat_minor": 5
}
