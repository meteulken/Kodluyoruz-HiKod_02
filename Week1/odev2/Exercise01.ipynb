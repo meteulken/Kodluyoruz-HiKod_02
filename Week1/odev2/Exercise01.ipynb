{
 "cells": [
  {
   "cell_type": "code",
   "execution_count": 59,
   "id": "1443cab4",
   "metadata": {},
   "outputs": [
    {
     "name": "stdout",
     "output_type": "stream",
     "text": [
      "Maas Tutarını Giriniz :37000\n",
      "Maaşınız : 27750.0\n"
     ]
    }
   ],
   "source": [
    "maas = int(input(\"Maas Tutarını Giriniz :\"))\n",
    "if(maas < 10000):\n",
    "    vergi = 5\n",
    "elif(maas < 25000):\n",
    "    vergi = 10\n",
    "elif(maas < 45000):\n",
    "    vergi = 25\n",
    "else:\n",
    "    vergi = 30\n",
    "son = (maas / 100) * vergi\n",
    "yeniMaas = maas - son\n",
    "print(\"Maaşınız :\",yeniMaas)"
   ]
  }
 ],
 "metadata": {
  "kernelspec": {
   "display_name": "Python 3 (ipykernel)",
   "language": "python",
   "name": "python3"
  },
  "language_info": {
   "codemirror_mode": {
    "name": "ipython",
    "version": 3
   },
   "file_extension": ".py",
   "mimetype": "text/x-python",
   "name": "python",
   "nbconvert_exporter": "python",
   "pygments_lexer": "ipython3",
   "version": "3.11.4"
  }
 },
 "nbformat": 4,
 "nbformat_minor": 5
}
