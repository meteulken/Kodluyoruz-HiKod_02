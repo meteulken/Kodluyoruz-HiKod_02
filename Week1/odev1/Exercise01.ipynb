{
 "cells": [
  {
   "cell_type": "code",
   "execution_count": 13,
   "id": "835dca89",
   "metadata": {},
   "outputs": [
    {
     "name": "stdout",
     "output_type": "stream",
     "text": [
      "3.0\n"
     ]
    }
   ],
   "source": [
    "x = 3\n",
    "xf = float(x)\n",
    "print(xf)"
   ]
  },
  {
   "cell_type": "code",
   "execution_count": 14,
   "id": "4aa75e39",
   "metadata": {},
   "outputs": [
    {
     "name": "stdout",
     "output_type": "stream",
     "text": [
      "4\n",
      "<class 'int'>\n"
     ]
    }
   ],
   "source": [
    "y = 4.5\n",
    "yint = int(y)\n",
    "print(yint)\n",
    "print(type(yint))"
   ]
  },
  {
   "cell_type": "code",
   "execution_count": 15,
   "id": "9162c58a",
   "metadata": {},
   "outputs": [
    {
     "name": "stdout",
     "output_type": "stream",
     "text": [
      "8\n",
      "<class 'int'>\n"
     ]
    }
   ],
   "source": [
    "z = \"8\"\n",
    "zint = int(z)\n",
    "print(zint)\n",
    "print(type(zint))"
   ]
  },
  {
   "cell_type": "code",
   "execution_count": 16,
   "id": "c29bf411",
   "metadata": {},
   "outputs": [
    {
     "name": "stdout",
     "output_type": "stream",
     "text": [
      "12.0\n",
      "<class 'float'>\n"
     ]
    }
   ],
   "source": [
    "a = \"12\"\n",
    "af = float(a)\n",
    "print(af)\n",
    "print(type(af))"
   ]
  },
  {
   "cell_type": "code",
   "execution_count": 17,
   "id": "24c03399",
   "metadata": {},
   "outputs": [
    {
     "name": "stdout",
     "output_type": "stream",
     "text": [
      "46\n",
      "<class 'int'>\n"
     ]
    }
   ],
   "source": [
    "b = \"46.8\"\n",
    "bint = int(float(b))\n",
    "print(bint)\n",
    "print(type(bint))"
   ]
  },
  {
   "cell_type": "code",
   "execution_count": null,
   "id": "20c6dd38",
   "metadata": {},
   "outputs": [],
   "source": []
  }
 ],
 "metadata": {
  "kernelspec": {
   "display_name": "Python 3 (ipykernel)",
   "language": "python",
   "name": "python3"
  },
  "language_info": {
   "codemirror_mode": {
    "name": "ipython",
    "version": 3
   },
   "file_extension": ".py",
   "mimetype": "text/x-python",
   "name": "python",
   "nbconvert_exporter": "python",
   "pygments_lexer": "ipython3",
   "version": "3.11.4"
  }
 },
 "nbformat": 4,
 "nbformat_minor": 5
}
