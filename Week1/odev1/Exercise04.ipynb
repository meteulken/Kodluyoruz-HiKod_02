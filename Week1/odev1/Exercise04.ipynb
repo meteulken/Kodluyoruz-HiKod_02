{
 "cells": [
  {
   "cell_type": "code",
   "execution_count": 4,
   "id": "f10d9f5e",
   "metadata": {},
   "outputs": [
    {
     "name": "stdout",
     "output_type": "stream",
     "text": [
      "İsminizi Giriniz :mete\n",
      "Yaşınızı Giriniz :22\n",
      "Sehirinizi Giriniz :kocaeli\n",
      "Mesleğinizi Giriniz :yazılımcı\n",
      "Merhaba mete 22 yaşındasınız ve kocaeli şehrinde yaşıyorsunuz mesleğiniz de yazılımcı .\n"
     ]
    }
   ],
   "source": [
    "isim = input(\"İsminizi Giriniz :\")\n",
    "yas = input(\"Yaşınızı Giriniz :\")\n",
    "sehir = input(\"Sehirinizi Giriniz :\")\n",
    "meslek = input(\"Mesleğinizi Giriniz :\")\n",
    "print(\"Merhaba\",isim,yas, \"yaşındasınız ve\",sehir,\"şehrinde yaşıyorsunuz\",\"mesleğiniz de\",meslek,\".\")"
   ]
  },
  {
   "cell_type": "code",
   "execution_count": null,
   "id": "1e72182f",
   "metadata": {},
   "outputs": [],
   "source": []
  }
 ],
 "metadata": {
  "kernelspec": {
   "display_name": "Python 3 (ipykernel)",
   "language": "python",
   "name": "python3"
  },
  "language_info": {
   "codemirror_mode": {
    "name": "ipython",
    "version": 3
   },
   "file_extension": ".py",
   "mimetype": "text/x-python",
   "name": "python",
   "nbconvert_exporter": "python",
   "pygments_lexer": "ipython3",
   "version": "3.11.4"
  }
 },
 "nbformat": 4,
 "nbformat_minor": 5
}
