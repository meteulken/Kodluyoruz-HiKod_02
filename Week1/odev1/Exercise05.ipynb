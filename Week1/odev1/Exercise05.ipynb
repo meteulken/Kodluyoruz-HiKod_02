{
 "cells": [
  {
   "cell_type": "code",
   "execution_count": 8,
   "id": "cf4869cc",
   "metadata": {},
   "outputs": [],
   "source": [
    "str = \"Hi-Kod Veri Bilimi Atölyesi\"\n",
    "strings = str.split()"
   ]
  },
  {
   "cell_type": "code",
   "execution_count": 9,
   "id": "3cb841d3",
   "metadata": {},
   "outputs": [
    {
     "name": "stdout",
     "output_type": "stream",
     "text": [
      "Seçiminiz 1-2-3-4 ->2\n",
      "Veri\n"
     ]
    }
   ],
   "source": [
    "a = int(input(\"Seçiminiz 1-2-3-4 ->\"))\n",
    "if(a == 1):\n",
    "    print(strings[0])\n",
    "elif(a == 2):\n",
    "    print(strings[1])\n",
    "elif(a == 3):\n",
    "    print(strings[2])\n",
    "elif(a == 4):\n",
    "    print(strings[3])\n",
    "else:\n",
    "    print(strings)"
   ]
  },
  {
   "cell_type": "code",
   "execution_count": 4,
   "id": "00f2aefb",
   "metadata": {},
   "outputs": [
    {
     "name": "stdout",
     "output_type": "stream",
     "text": [
      "HI-KOD VERI BILIMI ATÖLYESI\n",
      "hi-kod veri bilimi atölyesi\n"
     ]
    }
   ],
   "source": [
    "print(str.upper())\n",
    "\n",
    "print(str.lower())"
   ]
  },
  {
   "cell_type": "code",
   "execution_count": 6,
   "id": "cdb87af9",
   "metadata": {},
   "outputs": [
    {
     "name": "stdout",
     "output_type": "stream",
     "text": [
      "02468\n"
     ]
    }
   ],
   "source": [
    "sayilar = \"0123456789\"\n",
    "cift_sayilar = sayilar[::2]\n",
    "print(cift_sayilar)"
   ]
  },
  {
   "cell_type": "code",
   "execution_count": 7,
   "id": "51fec433",
   "metadata": {},
   "outputs": [
    {
     "name": "stdout",
     "output_type": "stream",
     "text": [
      "13579\n"
     ]
    }
   ],
   "source": [
    "sayilar = \"0123456789\"\n",
    "tek_sayilar = sayilar[1::2]\n",
    "print(tek_sayilar)"
   ]
  }
 ],
 "metadata": {
  "kernelspec": {
   "display_name": "Python 3 (ipykernel)",
   "language": "python",
   "name": "python3"
  },
  "language_info": {
   "codemirror_mode": {
    "name": "ipython",
    "version": 3
   },
   "file_extension": ".py",
   "mimetype": "text/x-python",
   "name": "python",
   "nbconvert_exporter": "python",
   "pygments_lexer": "ipython3",
   "version": "3.11.4"
  }
 },
 "nbformat": 4,
 "nbformat_minor": 5
}
