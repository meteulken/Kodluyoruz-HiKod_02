{
 "cells": [
  {
   "cell_type": "code",
   "execution_count": 2,
   "id": "8b5c494c",
   "metadata": {},
   "outputs": [
    {
     "name": "stdout",
     "output_type": "stream",
     "text": [
      "İlk sayıyı girin: 12\n",
      "İkinci sayıyı girin: 2\n",
      "12.0 + 2.0 = 14.0\n",
      "12.0 - 2.0 = 10.0\n",
      "12.0 * 2.0 = 24.0\n",
      "12.0 / 2.0 = 6.0\n"
     ]
    }
   ],
   "source": [
    "# Kullanıcıdan iki değeri alalım\n",
    "sayi1 = float(input(\"İlk sayıyı girin: \"))\n",
    "sayi2 = float(input(\"İkinci sayıyı girin: \"))\n",
    "\n",
    "# Toplama işlemi\n",
    "toplam = sayi1 + sayi2\n",
    "print(f\"{sayi1} + {sayi2} = {toplam}\")\n",
    "\n",
    "# Çıkarma işlemi\n",
    "fark = sayi1 - sayi2\n",
    "print(f\"{sayi1} - {sayi2} = {fark}\")\n",
    "\n",
    "# Çarpma işlemi\n",
    "carpim = sayi1 * sayi2\n",
    "print(f\"{sayi1} * {sayi2} = {carpim}\")\n",
    "\n",
    "# Bölme işlemi\n",
    "if sayi2 != 0:\n",
    "    bolum = sayi1 / sayi2\n",
    "    print(f\"{sayi1} / {sayi2} = {bolum}\")\n",
    "else:\n",
    "    print(\"Hata: İkinci sayı sıfıra bölünemez.\")\n"
   ]
  },
  {
   "cell_type": "code",
   "execution_count": null,
   "id": "c78dce32",
   "metadata": {},
   "outputs": [],
   "source": []
  }
 ],
 "metadata": {
  "kernelspec": {
   "display_name": "Python 3 (ipykernel)",
   "language": "python",
   "name": "python3"
  },
  "language_info": {
   "codemirror_mode": {
    "name": "ipython",
    "version": 3
   },
   "file_extension": ".py",
   "mimetype": "text/x-python",
   "name": "python",
   "nbconvert_exporter": "python",
   "pygments_lexer": "ipython3",
   "version": "3.11.4"
  }
 },
 "nbformat": 4,
 "nbformat_minor": 5
}
