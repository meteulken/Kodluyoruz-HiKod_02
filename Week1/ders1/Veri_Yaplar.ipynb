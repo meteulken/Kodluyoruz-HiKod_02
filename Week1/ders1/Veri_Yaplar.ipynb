{
 "cells": [
  {
   "cell_type": "markdown",
   "id": "db568b0a",
   "metadata": {},
   "source": [
    "# Data Types"
   ]
  },
  {
   "cell_type": "markdown",
   "id": "05243c86",
   "metadata": {},
   "source": [
    "- Integer\n",
    "- String\n",
    "- Float\n",
    "- Boollean"
   ]
  },
  {
   "cell_type": "code",
   "execution_count": null,
   "id": "df374bb9",
   "metadata": {},
   "outputs": [],
   "source": [
    "print(5)"
   ]
  },
  {
   "cell_type": "code",
   "execution_count": null,
   "id": "d5f3e588",
   "metadata": {},
   "outputs": [],
   "source": [
    "print(\"Hello World\")"
   ]
  },
  {
   "cell_type": "code",
   "execution_count": null,
   "id": "25c0285c",
   "metadata": {},
   "outputs": [],
   "source": [
    "print(4.6)"
   ]
  },
  {
   "cell_type": "code",
   "execution_count": 1,
   "id": "07873292",
   "metadata": {},
   "outputs": [
    {
     "data": {
      "text/plain": [
       "0.1"
      ]
     },
     "execution_count": 1,
     "metadata": {},
     "output_type": "execute_result"
    }
   ],
   "source": [
    "1/10"
   ]
  },
  {
   "cell_type": "code",
   "execution_count": null,
   "id": "c81dc9c8",
   "metadata": {},
   "outputs": [],
   "source": [
    "print(True)"
   ]
  },
  {
   "cell_type": "code",
   "execution_count": null,
   "id": "5272f2bf",
   "metadata": {},
   "outputs": [],
   "source": [
    "type(5)"
   ]
  },
  {
   "cell_type": "code",
   "execution_count": null,
   "id": "b3afb450",
   "metadata": {},
   "outputs": [],
   "source": [
    "type(\"Hello World\")"
   ]
  },
  {
   "cell_type": "code",
   "execution_count": null,
   "id": "70120de4",
   "metadata": {},
   "outputs": [],
   "source": [
    "type(4.6)"
   ]
  },
  {
   "cell_type": "code",
   "execution_count": null,
   "id": "05db7fca",
   "metadata": {},
   "outputs": [],
   "source": [
    "type(True)"
   ]
  },
  {
   "cell_type": "code",
   "execution_count": null,
   "id": "18bd599f",
   "metadata": {},
   "outputs": [],
   "source": [
    "type(\"5\")"
   ]
  },
  {
   "cell_type": "code",
   "execution_count": null,
   "id": "21aa92c9",
   "metadata": {},
   "outputs": [],
   "source": [
    "float(5)"
   ]
  },
  {
   "cell_type": "code",
   "execution_count": null,
   "id": "a436dd12",
   "metadata": {},
   "outputs": [],
   "source": [
    "int(5.4)"
   ]
  },
  {
   "cell_type": "code",
   "execution_count": null,
   "id": "4be53098",
   "metadata": {},
   "outputs": [],
   "source": [
    "int(\"5\")"
   ]
  },
  {
   "cell_type": "code",
   "execution_count": null,
   "id": "84cc2634",
   "metadata": {},
   "outputs": [],
   "source": [
    "int(\"5.6\")"
   ]
  },
  {
   "cell_type": "code",
   "execution_count": null,
   "id": "a3918562",
   "metadata": {},
   "outputs": [],
   "source": [
    "bool(0)"
   ]
  },
  {
   "cell_type": "code",
   "execution_count": null,
   "id": "d9b4f4d5",
   "metadata": {},
   "outputs": [],
   "source": [
    "bool(1)"
   ]
  },
  {
   "cell_type": "code",
   "execution_count": null,
   "id": "d9badf3c",
   "metadata": {},
   "outputs": [],
   "source": [
    "bool(5)"
   ]
  },
  {
   "cell_type": "code",
   "execution_count": null,
   "id": "0887a392",
   "metadata": {},
   "outputs": [],
   "source": [
    "bool(\"Hi\")"
   ]
  },
  {
   "cell_type": "code",
   "execution_count": null,
   "id": "b1581f6d",
   "metadata": {},
   "outputs": [],
   "source": [
    "bool(\"\")"
   ]
  },
  {
   "cell_type": "code",
   "execution_count": null,
   "id": "39f356d1",
   "metadata": {},
   "outputs": [],
   "source": [
    "bool(\" \")"
   ]
  },
  {
   "cell_type": "markdown",
   "id": "0a8daa43",
   "metadata": {},
   "source": [
    "### Notlar:\n",
    "- String bir float değer int() fonksiyonu ile dönüşmez.\n",
    "\n",
    "- Sıfır dışında her rakam True değerini verir.\n",
    "\n",
    "- Boş bir string ifade dışında tüm string değerler True sonucunu verir"
   ]
  },
  {
   "cell_type": "markdown",
   "id": "abcec5e4",
   "metadata": {},
   "source": [
    "# Operatörler"
   ]
  },
  {
   "cell_type": "markdown",
   "id": "a2584641",
   "metadata": {},
   "source": [
    "### Matematiksel Operatörler"
   ]
  },
  {
   "cell_type": "code",
   "execution_count": 1,
   "id": "aa979055",
   "metadata": {},
   "outputs": [
    {
     "data": {
      "text/plain": [
       "14"
      ]
     },
     "execution_count": 1,
     "metadata": {},
     "output_type": "execute_result"
    }
   ],
   "source": [
    "8+6"
   ]
  },
  {
   "cell_type": "code",
   "execution_count": null,
   "id": "5ff3d6e5",
   "metadata": {},
   "outputs": [],
   "source": [
    "19-25"
   ]
  },
  {
   "cell_type": "code",
   "execution_count": null,
   "id": "9a31a1cd",
   "metadata": {},
   "outputs": [],
   "source": [
    "7*3"
   ]
  },
  {
   "cell_type": "code",
   "execution_count": null,
   "id": "27e8abf9",
   "metadata": {},
   "outputs": [],
   "source": [
    "19/3"
   ]
  },
  {
   "cell_type": "code",
   "execution_count": null,
   "id": "fa29b42f",
   "metadata": {},
   "outputs": [],
   "source": [
    "#mod alma\n",
    "73%5"
   ]
  },
  {
   "cell_type": "code",
   "execution_count": null,
   "id": "0c0152fc",
   "metadata": {},
   "outputs": [],
   "source": [
    "#Üs alma\n",
    "4**3"
   ]
  },
  {
   "cell_type": "code",
   "execution_count": null,
   "id": "1858e4a8",
   "metadata": {},
   "outputs": [],
   "source": [
    "#tam bölme\n",
    "19//3"
   ]
  },
  {
   "cell_type": "code",
   "execution_count": null,
   "id": "e0917a5b",
   "metadata": {},
   "outputs": [],
   "source": [
    "\"Hi\"+\"Kod\""
   ]
  },
  {
   "cell_type": "code",
   "execution_count": null,
   "id": "3d85fff8",
   "metadata": {},
   "outputs": [],
   "source": [
    "\"Hi\"+\" Kod\""
   ]
  },
  {
   "cell_type": "code",
   "execution_count": null,
   "id": "68707581",
   "metadata": {},
   "outputs": [],
   "source": [
    "\"12\"+\"9\""
   ]
  },
  {
   "cell_type": "code",
   "execution_count": null,
   "id": "c4979a49",
   "metadata": {},
   "outputs": [],
   "source": [
    "\"Hi-Kod \" * 3"
   ]
  },
  {
   "cell_type": "markdown",
   "id": "2d6b853e",
   "metadata": {},
   "source": [
    "### Atama Operatörleri\n"
   ]
  },
  {
   "cell_type": "code",
   "execution_count": null,
   "id": "7d953f3c",
   "metadata": {},
   "outputs": [],
   "source": [
    "ahmet = 23\n",
    "ahmet"
   ]
  },
  {
   "cell_type": "code",
   "execution_count": null,
   "id": "b965890d",
   "metadata": {},
   "outputs": [],
   "source": [
    "ayse = 21"
   ]
  },
  {
   "cell_type": "code",
   "execution_count": null,
   "id": "ce07d53b",
   "metadata": {},
   "outputs": [],
   "source": [
    "ayse"
   ]
  },
  {
   "cell_type": "code",
   "execution_count": null,
   "id": "fa14ef6f",
   "metadata": {},
   "outputs": [],
   "source": [
    "ahmet += 2\n",
    "ahmet"
   ]
  },
  {
   "cell_type": "code",
   "execution_count": null,
   "id": "7446cbba",
   "metadata": {},
   "outputs": [],
   "source": [
    "ayşe -= 3"
   ]
  },
  {
   "cell_type": "code",
   "execution_count": null,
   "id": "df00e303",
   "metadata": {},
   "outputs": [],
   "source": [
    "ayşe"
   ]
  },
  {
   "cell_type": "markdown",
   "id": "b39da552",
   "metadata": {},
   "source": [
    "### Karşılaştırma Operatörleri"
   ]
  },
  {
   "cell_type": "code",
   "execution_count": null,
   "id": "bc637c0d",
   "metadata": {},
   "outputs": [],
   "source": [
    "melek = 24\n",
    "sedat = 36\n",
    "defne = 18\n",
    "emre = 28\n",
    "seda = 24"
   ]
  },
  {
   "cell_type": "code",
   "execution_count": null,
   "id": "faf56a1e",
   "metadata": {},
   "outputs": [],
   "source": [
    "24 == 24"
   ]
  },
  {
   "cell_type": "code",
   "execution_count": null,
   "id": "090ad9b6",
   "metadata": {},
   "outputs": [],
   "source": [
    "24 == 36"
   ]
  },
  {
   "cell_type": "code",
   "execution_count": null,
   "id": "20ce29ca",
   "metadata": {},
   "outputs": [],
   "source": [
    "24 != 36"
   ]
  },
  {
   "cell_type": "code",
   "execution_count": null,
   "id": "b044a21e",
   "metadata": {},
   "outputs": [],
   "source": [
    "18 != 28"
   ]
  },
  {
   "cell_type": "code",
   "execution_count": null,
   "id": "70a6f7da",
   "metadata": {},
   "outputs": [],
   "source": [
    "24 > 18"
   ]
  },
  {
   "cell_type": "code",
   "execution_count": null,
   "id": "15fbad02",
   "metadata": {},
   "outputs": [],
   "source": [
    "28 > 36"
   ]
  },
  {
   "cell_type": "code",
   "execution_count": null,
   "id": "2917d39b",
   "metadata": {},
   "outputs": [],
   "source": [
    "18 <= 36"
   ]
  },
  {
   "cell_type": "code",
   "execution_count": null,
   "id": "0c014892",
   "metadata": {},
   "outputs": [],
   "source": [
    "42 <= 42"
   ]
  },
  {
   "cell_type": "markdown",
   "id": "ffc46fd9",
   "metadata": {},
   "source": [
    "### Mantıksal Operatörler"
   ]
  },
  {
   "cell_type": "code",
   "execution_count": null,
   "id": "cba45424",
   "metadata": {},
   "outputs": [],
   "source": [
    "x = 10"
   ]
  },
  {
   "cell_type": "code",
   "execution_count": null,
   "id": "04694eaa",
   "metadata": {},
   "outputs": [],
   "source": [
    "x < 12 and x > 4"
   ]
  },
  {
   "cell_type": "code",
   "execution_count": null,
   "id": "d84636f8",
   "metadata": {},
   "outputs": [],
   "source": [
    "x < 9 and x < 14"
   ]
  },
  {
   "cell_type": "code",
   "execution_count": null,
   "id": "c712aea5",
   "metadata": {},
   "outputs": [],
   "source": [
    "x < 9 or x < 14"
   ]
  },
  {
   "cell_type": "code",
   "execution_count": null,
   "id": "60db6abc",
   "metadata": {},
   "outputs": [],
   "source": [
    "(17 < 20) and (26 > 19)"
   ]
  },
  {
   "cell_type": "code",
   "execution_count": null,
   "id": "e855a1ec",
   "metadata": {},
   "outputs": [],
   "source": [
    "(45 < 50) and (24 < 19)"
   ]
  },
  {
   "cell_type": "code",
   "execution_count": null,
   "id": "ffe16d49",
   "metadata": {},
   "outputs": [],
   "source": [
    "(45 < 50) or (24 < 19)"
   ]
  },
  {
   "cell_type": "code",
   "execution_count": 1,
   "id": "509ab8af",
   "metadata": {},
   "outputs": [
    {
     "ename": "NameError",
     "evalue": "name 'x' is not defined",
     "output_type": "error",
     "traceback": [
      "\u001b[1;31m---------------------------------------------------------------------------\u001b[0m",
      "\u001b[1;31mNameError\u001b[0m                                 Traceback (most recent call last)",
      "Cell \u001b[1;32mIn[1], line 1\u001b[0m\n\u001b[1;32m----> 1\u001b[0m \u001b[38;5;129;01mnot\u001b[39;00m(x \u001b[38;5;241m<\u001b[39m \u001b[38;5;241m12\u001b[39m \u001b[38;5;129;01mand\u001b[39;00m x \u001b[38;5;241m>\u001b[39m \u001b[38;5;241m4\u001b[39m)\n",
      "\u001b[1;31mNameError\u001b[0m: name 'x' is not defined"
     ]
    }
   ],
   "source": [
    "not(x < 12 and x > 4)"
   ]
  },
  {
   "cell_type": "code",
   "execution_count": null,
   "id": "24f9dcb9",
   "metadata": {},
   "outputs": [],
   "source": [
    "not((45 < 50) or (24 < 19))"
   ]
  },
  {
   "cell_type": "markdown",
   "id": "de67dbb6",
   "metadata": {},
   "source": [
    "### Üyelik Operatörleri"
   ]
  },
  {
   "cell_type": "code",
   "execution_count": 2,
   "id": "b9b1b821",
   "metadata": {},
   "outputs": [
    {
     "data": {
      "text/plain": [
       "'Hi-Kod Veri Bilimi'"
      ]
     },
     "execution_count": 2,
     "metadata": {},
     "output_type": "execute_result"
    }
   ],
   "source": [
    "atolye = \"Hi-Kod Veri Bilimi\"\n",
    "atolye"
   ]
  },
  {
   "cell_type": "code",
   "execution_count": 3,
   "id": "5e762056",
   "metadata": {},
   "outputs": [
    {
     "data": {
      "text/plain": [
       "True"
      ]
     },
     "execution_count": 3,
     "metadata": {},
     "output_type": "execute_result"
    }
   ],
   "source": [
    "\"i\" in atolye"
   ]
  },
  {
   "cell_type": "code",
   "execution_count": null,
   "id": "07e4e30f",
   "metadata": {},
   "outputs": [],
   "source": [
    "\"v\" in atolye"
   ]
  },
  {
   "cell_type": "code",
   "execution_count": null,
   "id": "aa9ffea6",
   "metadata": {},
   "outputs": [],
   "source": [
    "\"V\" in atolye"
   ]
  },
  {
   "cell_type": "code",
   "execution_count": null,
   "id": "82bac64c",
   "metadata": {},
   "outputs": [],
   "source": [
    "not \"v\" in atolye"
   ]
  },
  {
   "cell_type": "code",
   "execution_count": null,
   "id": "cbac57c4",
   "metadata": {},
   "outputs": [],
   "source": [
    "not \"a\" in atolye "
   ]
  },
  {
   "cell_type": "code",
   "execution_count": null,
   "id": "72f347f7",
   "metadata": {},
   "outputs": [],
   "source": []
  },
  {
   "cell_type": "code",
   "execution_count": null,
   "id": "e6592b57",
   "metadata": {},
   "outputs": [],
   "source": [
    "#len fonksiyonu string ifadelerin uzunluğunu ölçer\n",
    "\"65198223647\"\n",
    "len(\"65198223647\")"
   ]
  },
  {
   "cell_type": "code",
   "execution_count": null,
   "id": "60ebaf2a",
   "metadata": {},
   "outputs": [],
   "source": [
    "tc_no = \"65198223647\"\n",
    "len(tc_no)"
   ]
  },
  {
   "cell_type": "code",
   "execution_count": 2,
   "id": "ccabd9d5",
   "metadata": {},
   "outputs": [],
   "source": [
    "musteri_adi = \"muserrefozkan\"\n",
    "musteri_no = \"259483\""
   ]
  },
  {
   "cell_type": "code",
   "execution_count": null,
   "id": "40e55ade",
   "metadata": {},
   "outputs": [],
   "source": [
    "len(musteri_adi)"
   ]
  },
  {
   "cell_type": "code",
   "execution_count": null,
   "id": "b9a33192",
   "metadata": {},
   "outputs": [],
   "source": [
    "len(musteri_no)"
   ]
  },
  {
   "cell_type": "code",
   "execution_count": null,
   "id": "3b290a05",
   "metadata": {},
   "outputs": [],
   "source": [
    "len(musteri_adi)+len(musteri_no)"
   ]
  },
  {
   "cell_type": "code",
   "execution_count": 3,
   "id": "90bdc7f1",
   "metadata": {},
   "outputs": [
    {
     "name": "stdout",
     "output_type": "stream",
     "text": [
      "<class 'str'>\n",
      "<class 'int'>\n"
     ]
    }
   ],
   "source": [
    "print(type(musteri_no))\n",
    "print(type(len(musteri_no)))"
   ]
  },
  {
   "cell_type": "code",
   "execution_count": null,
   "id": "1a5246ce",
   "metadata": {},
   "outputs": [],
   "source": []
  },
  {
   "cell_type": "code",
   "execution_count": null,
   "id": "376f9d4d",
   "metadata": {},
   "outputs": [],
   "source": [
    "#split \n",
    "atolye"
   ]
  },
  {
   "cell_type": "code",
   "execution_count": null,
   "id": "3b371fff",
   "metadata": {},
   "outputs": [],
   "source": [
    "atolye.split()"
   ]
  },
  {
   "cell_type": "code",
   "execution_count": null,
   "id": "58532f28",
   "metadata": {},
   "outputs": [],
   "source": [
    "liste =atolye.split()"
   ]
  },
  {
   "cell_type": "code",
   "execution_count": null,
   "id": "acc9618a",
   "metadata": {},
   "outputs": [],
   "source": [
    "liste"
   ]
  },
  {
   "cell_type": "code",
   "execution_count": null,
   "id": "1dee811e",
   "metadata": {},
   "outputs": [],
   "source": [
    "liste2 = atolye.split(\"i\")"
   ]
  },
  {
   "cell_type": "code",
   "execution_count": null,
   "id": "bba44860",
   "metadata": {},
   "outputs": [],
   "source": [
    "liste2"
   ]
  },
  {
   "cell_type": "code",
   "execution_count": null,
   "id": "3ff765c4",
   "metadata": {},
   "outputs": [],
   "source": []
  },
  {
   "cell_type": "code",
   "execution_count": null,
   "id": "6bbce4c8",
   "metadata": {},
   "outputs": [],
   "source": [
    "#indexing,silicing\n",
    "harfler = \"abcdefghijklmn\"\n",
    "harfler[0]"
   ]
  },
  {
   "cell_type": "code",
   "execution_count": null,
   "id": "9fdaa20f",
   "metadata": {},
   "outputs": [],
   "source": [
    "harfler[1]"
   ]
  },
  {
   "cell_type": "code",
   "execution_count": null,
   "id": "29dd13ae",
   "metadata": {},
   "outputs": [],
   "source": [
    "harfler[2]"
   ]
  },
  {
   "cell_type": "code",
   "execution_count": null,
   "id": "a5aec2be",
   "metadata": {},
   "outputs": [],
   "source": [
    "#e harfine ulaşalım\n",
    "harfler[4]"
   ]
  },
  {
   "cell_type": "code",
   "execution_count": null,
   "id": "48f47760",
   "metadata": {},
   "outputs": [],
   "source": [
    "#i harfine ulaşalım\n",
    "harfler[8]"
   ]
  },
  {
   "cell_type": "code",
   "execution_count": null,
   "id": "03cb209b",
   "metadata": {},
   "outputs": [],
   "source": [
    "harfler[-1]"
   ]
  },
  {
   "cell_type": "code",
   "execution_count": null,
   "id": "d5c47805",
   "metadata": {},
   "outputs": [],
   "source": [
    "harfler[-2]"
   ]
  },
  {
   "cell_type": "code",
   "execution_count": null,
   "id": "87a1a485",
   "metadata": {},
   "outputs": [],
   "source": [
    "#i harfine ulaşalım\n",
    "harfler[-6]"
   ]
  },
  {
   "cell_type": "code",
   "execution_count": null,
   "id": "fce07aec",
   "metadata": {},
   "outputs": [],
   "source": [
    "harfler"
   ]
  },
  {
   "cell_type": "code",
   "execution_count": null,
   "id": "4e58514b",
   "metadata": {},
   "outputs": [],
   "source": [
    "harfler[0:5]"
   ]
  },
  {
   "cell_type": "code",
   "execution_count": null,
   "id": "6b39ffa7",
   "metadata": {},
   "outputs": [],
   "source": [
    "harfler[4:7]"
   ]
  },
  {
   "cell_type": "code",
   "execution_count": null,
   "id": "6b59c88e",
   "metadata": {},
   "outputs": [],
   "source": [
    "harfler[5:10]"
   ]
  },
  {
   "cell_type": "code",
   "execution_count": null,
   "id": "42715266",
   "metadata": {},
   "outputs": [],
   "source": [
    "harfler[::2]"
   ]
  },
  {
   "cell_type": "code",
   "execution_count": null,
   "id": "d461841d",
   "metadata": {},
   "outputs": [],
   "source": []
  },
  {
   "cell_type": "code",
   "execution_count": null,
   "id": "573a6c3a",
   "metadata": {},
   "outputs": [],
   "source": [
    "#input kullanıcıdan değer almak için kullanılır\n",
    "input(\"Adınız:\")"
   ]
  },
  {
   "cell_type": "code",
   "execution_count": null,
   "id": "4b6777d1",
   "metadata": {},
   "outputs": [],
   "source": [
    "isim = input(\"Adınız:\")"
   ]
  },
  {
   "cell_type": "code",
   "execution_count": null,
   "id": "3d7f47a2",
   "metadata": {},
   "outputs": [],
   "source": [
    "isim"
   ]
  },
  {
   "cell_type": "code",
   "execution_count": null,
   "id": "f3463f58",
   "metadata": {},
   "outputs": [],
   "source": [
    "age = input(\"Yaşiniz: \")\n",
    "print(age)"
   ]
  },
  {
   "cell_type": "code",
   "execution_count": null,
   "id": "9dc65b26",
   "metadata": {},
   "outputs": [],
   "source": [
    "#girilen yaş değerine 5 ekleyelim\n",
    "age + 5"
   ]
  },
  {
   "cell_type": "code",
   "execution_count": null,
   "id": "d50acb2d",
   "metadata": {},
   "outputs": [],
   "source": [
    "type(age)"
   ]
  },
  {
   "cell_type": "code",
   "execution_count": null,
   "id": "01521a18",
   "metadata": {},
   "outputs": [],
   "source": [
    "age"
   ]
  },
  {
   "cell_type": "code",
   "execution_count": null,
   "id": "d9a16b9a",
   "metadata": {},
   "outputs": [],
   "source": [
    "int(age) + 5"
   ]
  },
  {
   "cell_type": "markdown",
   "id": "4c41a2c2",
   "metadata": {},
   "source": [
    "Değişken adları;\n",
    "- Değişken adları sayı ile başlayamaz.\n",
    "- Değişken adları ya bir alfabe harfiyle ya da _ işaretiyle başlamalıdır.\n",
    "- Değişken adı seçilirken türkçe karakter kullanmamaya dikkat edilmelidir.(Kullanılması sorun değil ama tercih edilmez.)\n",
    "- Pythonda özel anlam ifade eden sözcükler değişken adı olarak kullanılamaz(for,elif,list)"
   ]
  },
  {
   "cell_type": "code",
   "execution_count": 3,
   "id": "7cd7a8f1",
   "metadata": {},
   "outputs": [
    {
     "ename": "SyntaxError",
     "evalue": "invalid decimal literal (3047523530.py, line 1)",
     "output_type": "error",
     "traceback": [
      "\u001b[1;36m  Input \u001b[1;32mIn [3]\u001b[1;36m\u001b[0m\n\u001b[1;33m    4_sayı_toplamı=2+3+2+4\u001b[0m\n\u001b[1;37m     ^\u001b[0m\n\u001b[1;31mSyntaxError\u001b[0m\u001b[1;31m:\u001b[0m invalid decimal literal\n"
     ]
    }
   ],
   "source": [
    "4_sayı_toplamı=2+3+2+4\n",
    "sayı_toplamı=2+3+2+"
   ]
  },
  {
   "cell_type": "code",
   "execution_count": null,
   "id": "1013e14e",
   "metadata": {},
   "outputs": [],
   "source": []
  },
  {
   "cell_type": "code",
   "execution_count": null,
   "id": "3a5fd024",
   "metadata": {},
   "outputs": [],
   "source": []
  },
  {
   "cell_type": "code",
   "execution_count": null,
   "id": "f5366ea6",
   "metadata": {},
   "outputs": [],
   "source": []
  },
  {
   "cell_type": "code",
   "execution_count": null,
   "id": "6b8faa9f",
   "metadata": {},
   "outputs": [],
   "source": []
  },
  {
   "cell_type": "code",
   "execution_count": null,
   "id": "6122f0d6",
   "metadata": {},
   "outputs": [],
   "source": []
  },
  {
   "cell_type": "code",
   "execution_count": null,
   "id": "e25e67fc",
   "metadata": {},
   "outputs": [],
   "source": []
  }
 ],
 "metadata": {
  "kernelspec": {
   "display_name": "Python 3 (ipykernel)",
   "language": "python",
   "name": "python3"
  },
  "language_info": {
   "codemirror_mode": {
    "name": "ipython",
    "version": 3
   },
   "file_extension": ".py",
   "mimetype": "text/x-python",
   "name": "python",
   "nbconvert_exporter": "python",
   "pygments_lexer": "ipython3",
   "version": "3.11.4"
  }
 },
 "nbformat": 4,
 "nbformat_minor": 5
}
