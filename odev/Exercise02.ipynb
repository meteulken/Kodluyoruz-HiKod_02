{
 "cells": [
  {
   "cell_type": "code",
   "execution_count": 35,
   "id": "195dadc7",
   "metadata": {},
   "outputs": [],
   "source": [
    "mete = 50\n",
    "ali = 55\n",
    "veli = 35"
   ]
  },
  {
   "cell_type": "code",
   "execution_count": 36,
   "id": "e22c90ab",
   "metadata": {},
   "outputs": [
    {
     "name": "stdout",
     "output_type": "stream",
     "text": [
      "Ali en büyük.\n"
     ]
    }
   ],
   "source": [
    "if mete > ali and mete > veli:\n",
    "    print(\"Mete en büyük.\")\n",
    "elif ali > mete and ali > veli:\n",
    "    print(\"Ali en büyük.\")\n",
    "elif veli > mete and veli > ali:\n",
    "    print(\"Veli en büyük.\")\n",
    "else:\n",
    "    print(\"Yaşlar eşit veya geçerli bir durum yok.\")"
   ]
  }
 ],
 "metadata": {
  "kernelspec": {
   "display_name": "Python 3 (ipykernel)",
   "language": "python",
   "name": "python3"
  },
  "language_info": {
   "codemirror_mode": {
    "name": "ipython",
    "version": 3
   },
   "file_extension": ".py",
   "mimetype": "text/x-python",
   "name": "python",
   "nbconvert_exporter": "python",
   "pygments_lexer": "ipython3",
   "version": "3.11.4"
  }
 },
 "nbformat": 4,
 "nbformat_minor": 5
}
